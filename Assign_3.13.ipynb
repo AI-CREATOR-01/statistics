{
 "cells": [
  {
   "cell_type": "markdown",
   "id": "156abc7c",
   "metadata": {},
   "source": [
    "Q1. Explain the assumptions required to use ANOVA and provide examples of violations that could impact\n",
    "the validity of the results."
   ]
  },
  {
   "cell_type": "markdown",
   "id": "c5b5d6cb",
   "metadata": {},
   "source": [
    "ANOVA (Analysis of Variance) is a statistical method used to test for differences between two or more groups based on the means of their continuous data. However, ANOVA relies on several assumptions to ensure the validity of the results. Here are the assumptions required to use ANOVA and examples of violations that could impact the validity of the results:\n",
    "\n",
    "Normality: The data within each group should be normally distributed. Violation of this assumption occurs when the distribution of the data is significantly skewed or when there are outliers. For example, if a group has a bimodal distribution or a long tail, the data might not be normally distributed, leading to invalid ANOVA results.\n",
    "\n",
    "Homogeneity of variance: The variance of the data should be equal across groups. Violation of this assumption occurs when the variance of one group is much larger or smaller than the others. For example, if one group has a much larger variance than the others, it might be more likely to have extreme values, leading to invalid ANOVA results.\n",
    "\n",
    "Independence: The observations within each group should be independent. Violation of this assumption occurs when there is a correlation between observations within groups. For example, if repeated measurements are taken from the same individual, they might not be independent, leading to invalid ANOVA results.\n",
    "\n",
    "Random sampling: The groups should be randomly sampled from the population of interest. Violation of this assumption occurs when the groups are not representative of the population of interest. For example, if the groups are selected based on convenience or if there is a systematic bias in the selection process, the groups might not be representative, leading to invalid ANOVA results.\n",
    "\n",
    "Equal sample size: The sample size for each group should be equal. Violation of this assumption occurs when the sample sizes for each group are different. For example, if one group has a much smaller sample size than the others, it might not be representative, leading to invalid ANOVA results."
   ]
  },
  {
   "cell_type": "markdown",
   "id": "048ab14e",
   "metadata": {},
   "source": [
    "Q2. What are the three types of ANOVA, and in what situations would each be used?"
   ]
  },
  {
   "cell_type": "markdown",
   "id": "fbfd1a18",
   "metadata": {},
   "source": [
    "There are three types of ANOVA (Analysis of Variance), and each type is used to test different hypotheses or answer different research questions. The three types of ANOVA are:\n",
    "\n",
    "1.One-way ANOVA: This type of ANOVA is used to test for differences between two or more groups on a single independent variable.   For example, a one-way ANOVA could be used to test if there are differences in test scores between students who receive         different types of instruction (e.g., lecture-based, problem-based, or interactive).\n",
    "\n",
    "2.Two-way ANOVA: This type of ANOVA is used to test for differences between two or more groups on two independent variables. For   example, a two-way ANOVA could be used to test if there are differences in test scores between students who receive different   types of instruction (independent variable 1) and who are from different grade levels (independent variable 2).\n",
    "\n",
    "3.Three-way ANOVA: This type of ANOVA is used to test for differences between two or more groups on three independent variables.   For example, a three-way ANOVA could be used to test if there are differences in test scores between students who receive       different types of instruction (independent variable 1), who are from different grade levels (independent variable 2), and who   are from different socioeconomic backgrounds (independent variable 3)."
   ]
  },
  {
   "cell_type": "markdown",
   "id": "84ae0e2a",
   "metadata": {},
   "source": [
    "Q3. What is the partitioning of variance in ANOVA, and why is it important to understand this concept?"
   ]
  },
  {
   "cell_type": "markdown",
   "id": "75df8f29",
   "metadata": {},
   "source": [
    "The partitioning of variance in ANOVA (Analysis of Variance) refers to the division of the total variance in a dataset into different components that can be attributed to different sources of variation. In ANOVA, the total variance is divided into two components: variance between groups and variance within groups. The variance between groups measures the extent to which the means of the groups differ from each other, while the variance within groups measures the extent to which the individual observations within each group vary around their group mean.\n",
    "\n",
    "It is important to understand the partitioning of variance in ANOVA because it helps to identify the sources of variation in the data and to determine the significance of the differences between groups. By comparing the variance between groups and the variance within groups, ANOVA can determine if the differences between groups are statistically significant or if they are due to chance. If the variance between groups is much larger than the variance within groups, this suggests that there are significant differences between the groups.\n",
    "\n",
    "Understanding the partitioning of variance can also help to identify the factors that are driving the differences between groups. For example, if the variance between groups is large, but the variance within groups is small, this suggests that the differences between groups are primarily due to the independent variable being tested in the study. On the other hand, if the variance within groups is large, this suggests that there is a lot of variability within each group, which may be due to factors other than the independent variable being tested.\n",
    "\n"
   ]
  },
  {
   "cell_type": "markdown",
   "id": "0aea3ca9",
   "metadata": {},
   "source": [
    "Q4. How would you calculate the total sum of squares (SST), explained sum of squares (SSE), and residual\n",
    "sum of squares (SSR) in a one-way ANOVA using Python?"
   ]
  },
  {
   "cell_type": "code",
   "execution_count": null,
   "id": "8f865eac",
   "metadata": {},
   "outputs": [],
   "source": [
    "# To calculate the total sum of squares (SST), explained sum of squares (SSE), and residual sum of squares (SSR) in a one-way\n",
    "# ANOVA using Python, you can use the statsmodels library. Here's how you can do it:\n",
    "import pandas as pd\n",
    "import statsmodels.api as sm\n",
    "from statsmodels.formula.api import ols\n",
    "\n",
    "# Load data into a pandas DataFrame\n",
    "data = pd.read_csv('titanic')\n",
    "\n",
    "# Fit one-way ANOVA model using OLS\n",
    "model = ols('y ~ group', data=data).fit()\n",
    "\n",
    "# Calculate SST\n",
    "sst = sm.stats.anova_lm(model, typ=1)['sum_sq'][0]\n",
    "\n",
    "# Calculate SSE\n",
    "sse = sm.stats.anova_lm(model, typ=1)['sum_sq'][1]\n",
    "\n",
    "# Calculate SSR\n",
    "ssr = sst - sse\n",
    "\n",
    "print('SST:', sst)\n",
    "print('SSE:', sse)\n",
    "print('SSR:', ssr)\n"
   ]
  },
  {
   "cell_type": "markdown",
   "id": "f5096fcc",
   "metadata": {},
   "source": [
    "Q5. In a two-way ANOVA, how would you calculate the main effects and interaction effects using Python?"
   ]
  },
  {
   "cell_type": "code",
   "execution_count": null,
   "id": "d65086b7",
   "metadata": {},
   "outputs": [],
   "source": [
    "import pandas as pd\n",
    "import statsmodels.api as sm\n",
    "from statsmodels.formula.api import ols\n",
    "\n",
    "# Load the data into a pandas dataframe\n",
    "data = pd.read_csv('data.csv')\n",
    "\n",
    "# Fit the ANOVA model\n",
    "model = ols('y ~ A + B + A:B', data).fit()\n",
    "\n",
    "# Calculate the main effects\n",
    "main_effects = model.params[['A', 'B']]\n",
    "\n",
    "# Calculate the interaction effect\n",
    "interaction_effect = model.params['A:B']\n",
    "\n",
    "# Print the results\n",
    "print('Main effects:')\n",
    "print(main_effects)\n",
    "print('Interaction effect:')\n",
    "print(interaction_effect)\n"
   ]
  },
  {
   "cell_type": "markdown",
   "id": "f24ad6a7",
   "metadata": {},
   "source": [
    "Q6. Suppose you conducted a one-way ANOVA and obtained an F-statistic of 5.23 and a p-value of 0.02.\n",
    "What can you conclude about the differences between the groups, and how would you interpret these\n",
    "results?"
   ]
  },
  {
   "cell_type": "markdown",
   "id": "f00ceb31",
   "metadata": {},
   "source": [
    "If a one-way ANOVA test results in an F-statistic of 5.23 and a p-value of 0.02, it indicates that there is a statistically significant difference between the groups being compared.\n",
    "\n",
    "The F-statistic is a measure of the variability between groups compared to the variability within groups. A high F-statistic value indicates that the variability between groups is much greater than the variability within groups. On the other hand, a low F-statistic value indicates that the variability within groups is much greater than the variability between groups.\n",
    "\n",
    "The p-value of 0.02 indicates that there is only a 2% chance of observing such a large F-statistic if there were no actual differences between the groups. Therefore, we can reject the null hypothesis and conclude that there is a significant difference between the groups.\n",
    "\n",
    "However, it is important to note that a significant F-test does not indicate which specific group(s) differ from each other. For this, post-hoc tests such as Tukey's Honestly Significant Difference (HSD) or Scheffe's test can be used to compare pairs of groups and determine which ones are significantly different from each other."
   ]
  },
  {
   "cell_type": "markdown",
   "id": "7d5fa939",
   "metadata": {},
   "source": [
    "Q7. In a repeated measures ANOVA, how would you handle missing data, and what are the potential\n",
    "consequences of using different methods to handle missing data?"
   ]
  },
  {
   "cell_type": "markdown",
   "id": "6dad0924",
   "metadata": {},
   "source": [
    "n a repeated measures ANOVA, missing data can be handled using various methods, including mean imputation, last observation carried forward (LOCF), and multiple imputation.\n",
    "\n",
    "Mean imputation involves replacing missing data with the mean value of the non-missing data for that variable. LOCF involves carrying forward the last observed value for each missing data point. Multiple imputation involves creating multiple plausible imputed datasets based on the observed data and the missingness pattern, and then combining the results of the ANOVA across these datasets.\n",
    "\n",
    "The potential consequences of using different methods to handle missing data can include biased estimates of means and standard errors, decreased statistical power, and increased type I error rates. Mean imputation can lead to an underestimation of the standard error and increased type I error rates, especially if there is a large amount of missing data. LOCF can result in an overestimation of treatment effects, especially if there are missing data points at the beginning of the study. Multiple imputation can provide more accurate estimates of the standard error and treatment effects, but it can be computationally intensive and requires assumptions about the missing data mechanism.\n",
    "\n",
    "In general, the best approach to handling missing data in a repeated measures ANOVA is to use multiple imputation if possible. This approach accounts for the uncertainty introduced by the missing data and provides more accurate estimates of the standard error and treatment effects. If multiple imputation is not feasible, LOCF or mean imputation can be used as long as the assumptions of the missing data mechanism are reasonable and the potential biases are understood."
   ]
  },
  {
   "cell_type": "markdown",
   "id": "e3fce9ac",
   "metadata": {},
   "source": [
    "Q8. What are some common post-hoc tests used after ANOVA, and when would you use each one? Provide\n",
    "an example of a situation where a post-hoc test might be necessary."
   ]
  },
  {
   "cell_type": "markdown",
   "id": "b306a738",
   "metadata": {},
   "source": [
    "After performing an ANOVA and finding a significant difference between the groups, post-hoc tests can be used to determine which groups are significantly different from each other. Some common post-hoc tests include Tukey's Honestly Significant Difference (HSD), Bonferroni correction, and Scheffe's test.\n",
    "\n",
    "Tukey's HSD: This test is used when the sample sizes are equal, and the variances are homogeneous. It is the most commonly used post-hoc test, and it compares all possible pairwise differences between group means while controlling the overall Type I error rate.\n",
    "\n",
    "Bonferroni correction: This test is used when the sample sizes are unequal or the variances are heterogeneous. It adjusts the significance level of each comparison to control the overall Type I error rate.\n",
    "\n",
    "Scheffe's test: This test is used when the number of pairwise comparisons is large or when there are complex interactions between groups. It provides a more conservative estimate of significance than Tukey's HSD or Bonferroni correction.\n",
    "\n",
    "For example, let's say a researcher is conducting a study on the effects of different types of exercise on weight loss. They conduct an ANOVA and find a significant difference between the groups (i.e., different types of exercise). They then use Tukey's HSD to determine which groups are significantly different from each other. They find that group A (i.e., running) and group B (i.e., cycling) are significantly different from each other, but group C (i.e., swimming) is not significantly different from either group A or B. This information could be used to recommend a particular type of exercise for weight loss to individuals based on their preferences and abilities."
   ]
  },
  {
   "cell_type": "markdown",
   "id": "4d916207",
   "metadata": {},
   "source": [
    "Q9. A researcher wants to compare the mean weight loss of three diets: A, B, and C. They collect data from\n",
    "50 participants who were randomly assigned to one of the diets. Conduct a one-way ANOVA using Python\n",
    "to determine if there are any significant differences between the mean weight loss of the three diets.\n",
    "Report the F-statistic and p-value, and interpret the results."
   ]
  },
  {
   "cell_type": "code",
   "execution_count": null,
   "id": "248cb956",
   "metadata": {},
   "outputs": [],
   "source": [
    "import numpy as np\n",
    "from scipy.stats import f_oneway\n",
    "\n",
    "# Generate random weight loss data for three diets\n",
    "np.random.seed(123)\n",
    "diet_a = np.random.normal(loc=5.0, scale=1.0, size=50)\n",
    "diet_b = np.random.normal(loc=4.5, scale=1.2, size=50)\n",
    "diet_c = np.random.normal(loc=6.0, scale=1.5, size=50)\n",
    "\n",
    "# Conduct one-way ANOVA\n",
    "f_stat, p_val = f_oneway(diet_a, diet_b, diet_c)\n",
    "\n",
    "# Print results\n",
    "print(\"F-statistic:\", f_stat)\n",
    "print(\"p-value:\", p_val)\n"
   ]
  },
  {
   "cell_type": "markdown",
   "id": "b843816e",
   "metadata": {},
   "source": [
    "Q10. A company wants to know if there are any significant differences in the average time it takes to\n",
    "complete a task using three different software programs: Program A, Program B, and Program C. They\n",
    "randomly assign 30 employees to one of the programs and record the time it takes each employee to\n",
    "complete the task. Conduct a two-way ANOVA using Python to determine if there are any main effects or\n",
    "interaction effects between the software programs and employee experience level (novice vs.\n",
    "experienced). Report the F-statistics and p-values, and interpret the results."
   ]
  },
  {
   "cell_type": "code",
   "execution_count": null,
   "id": "40a2df73",
   "metadata": {},
   "outputs": [],
   "source": [
    "import pandas as pd\n",
    "import statsmodels.api as sm\n",
    "from statsmodels.formula.api import ols\n",
    "\n",
    "# Generate random data for the experiment\n",
    "np.random.seed(123)\n",
    "n = 30\n",
    "programs = ['A', 'B', 'C']\n",
    "experience_levels = ['novice', 'experienced']\n",
    "data = pd.DataFrame({\n",
    "    'program': np.random.choice(programs, n),\n",
    "    'experience': np.random.choice(experience_levels, n),\n",
    "    'time': np.random.normal(loc=10, scale=2, size=n)\n",
    "})\n",
    "\n",
    "# Fit the two-way ANOVA model\n",
    "model = ols('time ~ program + experience + program:experience', data=data).fit()\n",
    "anova_table = sm.stats.anova_lm(model, typ=2)\n",
    "\n",
    "# Print the ANOVA table\n",
    "print(anova_table)\n"
   ]
  },
  {
   "cell_type": "markdown",
   "id": "0c9b0396",
   "metadata": {},
   "source": [
    "Q11. An educational researcher is interested in whether a new teaching method improves student test\n",
    "scores. They randomly assign 100 students to either the control group (traditional teaching method) or the\n",
    "experimental group (new teaching method) and administer a test at the end of the semester. Conduct a\n",
    "two-sample t-test using Python to determine if there are any significant differences in test scores\n",
    "between the two groups. If the results are significant, follow up with a post-hoc test to determine which\n",
    "group(s) differ significantly from each other."
   ]
  },
  {
   "cell_type": "code",
   "execution_count": null,
   "id": "0df66bee",
   "metadata": {},
   "outputs": [],
   "source": [
    "import numpy as np\n",
    "from scipy.stats import ttest_ind\n",
    "\n",
    "# Generate random data for the experiment\n",
    "np.random.seed(123)\n",
    "n = 100\n",
    "control_scores = np.random.normal(loc=70, scale=10, size=n)\n",
    "experimental_scores = np.random.normal(loc=75, scale=10, size=n)\n",
    "\n",
    "# Conduct the two-sample t-test\n",
    "t_stat, p_value = ttest_ind(control_scores, experimental_scores)\n",
    "\n",
    "# Print the results\n",
    "print('t-statistic:', t_stat)\n",
    "print('p-value:', p_value)\n",
    "\n",
    "# Conduct a post-hoc test (Tukey's HSD)\n",
    "from statsmodels.stats.multicomp import pairwise_tukeyhsd\n",
    "\n",
    "tukey_results = pairwise_tukeyhsd(\n",
    "    np.concatenate([control_scores, experimental_scores]),\n",
    "    np.concatenate([np.repeat('control', n), np.repeat('experimental', n)]),\n",
    "    alpha=0.05\n",
    ")\n",
    "\n",
    "print(tukey_results)\n"
   ]
  },
  {
   "cell_type": "markdown",
   "id": "f2741ef7",
   "metadata": {},
   "source": [
    "Q12. A researcher wants to know if there are any significant differences in the average daily sales of three\n",
    "retail stores: Store A, Store B, and Store C. They randomly select 30 days and record the sales for each store\n",
    "on those days. Conduct a repeated measures ANOVA using Python to determine if there are any\n",
    "\n",
    "significant differences in sales between the three stores. If the results are significant, follow up with a post-\n",
    "hoc test to determine which store(s) differ significantly from each other."
   ]
  },
  {
   "cell_type": "code",
   "execution_count": null,
   "id": "d5505358",
   "metadata": {},
   "outputs": [],
   "source": [
    "import pandas as pd\n",
    "import numpy as np\n",
    "import statsmodels.api as sm\n",
    "from statsmodels.formula.api import ols\n",
    "\n",
    "# Load the data\n",
    "data = pd.read_csv('sales_data.csv')\n",
    "\n",
    "# Print the first few rows of the data\n",
    "print(data.head())\n"
   ]
  },
  {
   "cell_type": "code",
   "execution_count": null,
   "id": "a863920e",
   "metadata": {},
   "outputs": [],
   "source": [
    "# Conduct the repeated measures ANOVA\n",
    "rm = ols('sales ~ store', data=data).fit()\n",
    "anova_table = sm.stats.anova_lm(rm, typ=2)\n",
    "\n",
    "# Print the ANOVA table\n",
    "print(anova_table)\n"
   ]
  },
  {
   "cell_type": "code",
   "execution_count": null,
   "id": "6b8654d3",
   "metadata": {},
   "outputs": [],
   "source": [
    "# Conduct the Tukey HSD post-hoc test\n",
    "from statsmodels.stats.multicomp import pairwise_tukeyhsd\n",
    "\n",
    "tukey = pairwise_tukeyhsd(endog=data['sales'], groups=data['store'], alpha=0.05)\n",
    "print(tukey.summary())\n"
   ]
  }
 ],
 "metadata": {
  "kernelspec": {
   "display_name": "Python 3 (ipykernel)",
   "language": "python",
   "name": "python3"
  },
  "language_info": {
   "codemirror_mode": {
    "name": "ipython",
    "version": 3
   },
   "file_extension": ".py",
   "mimetype": "text/x-python",
   "name": "python",
   "nbconvert_exporter": "python",
   "pygments_lexer": "ipython3",
   "version": "3.9.13"
  }
 },
 "nbformat": 4,
 "nbformat_minor": 5
}
