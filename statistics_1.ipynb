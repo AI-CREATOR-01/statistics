{
 "cells": [
  {
   "cell_type": "code",
   "execution_count": 1,
   "id": "d540e8b2-c9f2-49c0-b70d-8bd7dd226f8a",
   "metadata": {},
   "outputs": [],
   "source": [
    "#                                                  ANS.1"
   ]
  },
  {
   "cell_type": "code",
   "execution_count": 3,
   "id": "9a523954-697d-4716-866b-2cc972d0f2dd",
   "metadata": {},
   "outputs": [],
   "source": [
    "# Statistics is the branch of mathematics that deals with the collection, analysis, interpretation,\n",
    "# presentation, and organization of data. It provides methods for summarizing and describing large sets of data,\n",
    "# and for making conclusions and predictions based on that data.\n",
    "\n",
    "# Statistics is used in many different fields, such as business, economics, medicine, psychology, engineering, and social sciences\n",
    "# It can be used to help make decisions, identify patterns and relationships, and test hypotheses."
   ]
  },
  {
   "cell_type": "code",
   "execution_count": null,
   "id": "d490c501-345a-45e9-8a3b-156f58b3976d",
   "metadata": {},
   "outputs": [],
   "source": [
    "#                                                  ANS.2"
   ]
  },
  {
   "cell_type": "code",
   "execution_count": 2,
   "id": "35dae37a-b1bc-4db3-9df1-ac75a1da377b",
   "metadata": {},
   "outputs": [],
   "source": [
    "# Descriptive Statistics:\n",
    "\n",
    "# Descriptive statistics is the type of statistics that summarizes and describes the characteristics of a dataset.\n",
    "# It provides information about the central tendency, dispersion, and shape of the data.\n",
    "# Descriptive statistics are useful when we want to gain a general understanding of a dataset, \n",
    "# but we are not interested in making predictions or drawing inferences beyond the data itself.\n",
    "\n",
    "# Example: A company wants to analyze the salaries of its employees. Descriptive statistics would be used to calculate the mean, \n",
    "#          median, and standard deviation of the salaries to understand the typical salary range in the company.\n",
    "\n",
    "# Inferential Statistics:\n",
    "\n",
    "# Inferential statistics is the type of statistics that uses data from a sample to make predictions or draw inferences about a \n",
    "# larger population. It involves hypothesis testing and estimating parameters of the population based on the sample data.\n",
    "# Inferential statistics are useful when we want to make predictions or draw conclusions about a population based on a sample of\n",
    "# data.\n",
    "\n",
    "# Example: A political candidate wants to know what percentage of voters in a city will vote for him in an upcoming election. \n",
    "#          Inferential statistics would be used to estimate this percentage based on a sample of voters, such as a poll or survey.\n",
    "\n"
   ]
  },
  {
   "cell_type": "code",
   "execution_count": 4,
   "id": "3d69b78e-2284-4cb8-b41d-b4980f516d37",
   "metadata": {},
   "outputs": [],
   "source": [
    "#                                                  ANS.3"
   ]
  },
  {
   "cell_type": "code",
   "execution_count": 5,
   "id": "1e5a9706-9c50-42f4-85c7-7ad3d67b124c",
   "metadata": {},
   "outputs": [],
   "source": [
    "# there are two types of data quantitative and qualitative data. Quantitative data are numerical in nature and can be measured \n",
    "# and analyzed using mathematical and statistical methods, while qualitative data are non-numerical and describe qualities or \n",
    "# characteristics of a particular phenomenon.\n",
    "\n",
    "# Quantitative Data:\n",
    "    \n",
    "# a. Discrete data: This type of quantitative data represents values that are countable and finite. Examples of discrete data\n",
    "#                   include the number of students in a classroom, the number of goals scored in a football match, or the numbers \n",
    "#                   of cars sold by  a dealership in a month.\n",
    "\n",
    "# b. Continuous data: This type of quantitative data represents values that are measurable and can take any value within a given\n",
    "#                     range. Examples of continuous data include height, weight, time, and temperature.\n",
    "\n",
    "# Qualitative Data:\n",
    "    \n",
    "# a. Nominal data: This type of qualitative data represents categorical data that cannot be ordered or ranked. Examples of nominal\n",
    "#                  data include gender, ethnicity, and marital status.\n",
    "\n",
    "# b. Ordinal data: This type of qualitative data represents categorical data that can be ordered or ranked. Examples of ordinal\n",
    "#                  data include educational levels such as elementary, high school, or college, or income levels such as low,\n",
    "#                  medium, or high.\n",
    "\n"
   ]
  },
  {
   "cell_type": "code",
   "execution_count": 6,
   "id": "92e20982-06b5-4925-90e8-43026db87005",
   "metadata": {},
   "outputs": [],
   "source": [
    "#                                                  ANS.4"
   ]
  },
  {
   "cell_type": "code",
   "execution_count": 7,
   "id": "8c9a60ce-485f-4ebe-a418-61750f701f0b",
   "metadata": {},
   "outputs": [],
   "source": [
    "# (i) Grading in exam: This dataset is qualitative as it consists of letter grades.\n",
    "\n",
    "# (ii) Colour of mangoes: This dataset is qualitative as it consists of color categories.\n",
    "\n",
    "# (iii) Height data of a class: This dataset is quantitative as it consists of numerical measurements.\n",
    "\n",
    "# (iv) Number of mangoes exported by a farm: This dataset is quantitative as it consists of numerical measurements."
   ]
  },
  {
   "cell_type": "code",
   "execution_count": 8,
   "id": "933f67f1-fa92-4c53-b480-ca775c31b2bd",
   "metadata": {},
   "outputs": [],
   "source": [
    "#                                                 ANS.5"
   ]
  },
  {
   "cell_type": "code",
   "execution_count": 9,
   "id": "91c6a0ba-7130-4da7-b349-e5f215ddcb32",
   "metadata": {},
   "outputs": [],
   "source": [
    "# Levels of measurement, also known as scales of measurement, refer to the different types of data that can be collected and \n",
    "# analyzed in research. There are four main levels of measurement: nominal, ordinal, interval, and ratio.\n",
    "\n",
    "# Nominal level of measurement: This level of measurement involves categorical data that cannot be ordered or ranked.\n",
    "# The data only indicate the identity or the label of the category. Examples of nominal level variables include\n",
    "# gender (male, female), marital status (married, single, divorced, widowed), and types of cars (sedan, SUV, truck).\n",
    "\n",
    "# Ordinal level of measurement: This level of measurement involves categorical data that can be ranked or ordered based on some \n",
    "# criterion. However, the differences between the ranks cannot be quantified. Examples of ordinal level variables include\n",
    "# education level (high school, college, graduate), grades (A, B, C), and customer satisfaction levels (very satisfied, satisfied,\n",
    "# neutral, dissatisfied, very dissatisfied).\n",
    "\n",
    "# Interval level of measurement: This level of measurement involves quantitative data that are measured on a scale with equal \n",
    "# intervals between each value. However, there is no true zero point in this level of measurement. Examples of interval level\n",
    "# variables include temperature (measured in Celsius or Fahrenheit), time (measured in seconds, minutes, hours), and IQ scores.\n",
    "\n",
    "# Ratio level of measurement: This level of measurement involves quantitative data that are measured on a scale with equal\n",
    "# intervals between each value, and a true zero point exists. This means that ratios between values can be calculated. Examples\n",
    "# of ratio level variables include weight (measured in kilograms or pounds), height (measured in centimeters or feet),\n",
    "# and income (measured in dollars)."
   ]
  },
  {
   "cell_type": "code",
   "execution_count": 10,
   "id": "9b203d82-3ca8-4744-a6af-c22f6b03f967",
   "metadata": {},
   "outputs": [],
   "source": [
    "#                                               ANS.6"
   ]
  },
  {
   "cell_type": "code",
   "execution_count": 11,
   "id": "b7cf31a0-52f1-4011-af5f-709aaacf6a98",
   "metadata": {},
   "outputs": [],
   "source": [
    "# Understanding the level of measurement is crucial when analyzing data because it affects the types of statistical analysis that\n",
    "# can be performed on the data. There are four levels of measurement: nominal, ordinal, interval, and ratio. Each level of\n",
    "# measurement has its own set of mathematical properties, and the choice of appropriate statistical techniques depends on \n",
    "# the level of measurement of the data.\n",
    "\n",
    "# For example, if a researcher wants to investigate the relationship between different types of cars and their colors,\n",
    "# the level of measurement for the car type variable would be nominal, while the level of measurement for the color variable\n",
    "# would also be nominal. In this case, appropriate statistical techniques would include chi-square tests or contingency tables\n",
    "# to determine the association between the two variables.\n",
    "\n",
    "# On the other hand, if the researcher wanted to investigate the relationship between the age of car owners and the number of \n",
    "# accidents they have been involved in, the level of measurement for the age variable would be interval, while the level of\n",
    "# measurement for the number of accidents variable would be ratio. In this case, appropriate statistical techniques would include \n",
    "# correlation analysis or regression analysis."
   ]
  },
  {
   "cell_type": "code",
   "execution_count": 13,
   "id": "fd5af4bf-6e12-4b0a-a7d6-af809fa34c97",
   "metadata": {},
   "outputs": [],
   "source": [
    "#                                              ANS.7"
   ]
  },
  {
   "cell_type": "code",
   "execution_count": 12,
   "id": "cf3831d9-67ca-4f83-ab3a-74b37bba6cbc",
   "metadata": {},
   "outputs": [],
   "source": [
    "# Nominal and ordinal are two of the four levels of measurement in statistics. While both are categorical data types, there are \n",
    "# important differences between them:\n",
    "\n",
    "# Nominal data: Nominal data is the lowest level of measurement, and it consists of categories or labels that cannot be ranked or \n",
    "# ordered in any way. Nominal data is used to label variables without any quantitative value. Examples of nominal data include\n",
    "# gender, race, religion, type of car, or favorite color.\n",
    "\n",
    "# Ordinal data: Ordinal data, on the other hand, is the second level of measurement, and it consists of categories or labels that \n",
    "# can be ranked or ordered based on some criteria. However, the differences between the categories cannot be measured or\n",
    "# quantified. Examples of ordinal data include rankings in a competition, rating scales such as \"poor, fair, good, excellent,\"\n",
    "# or levels of education such as \"elementary school, high school, bachelor's degree, master's degree.\""
   ]
  },
  {
   "cell_type": "code",
   "execution_count": 15,
   "id": "0b3265cc-ca48-4246-97f3-640cd8980ebc",
   "metadata": {},
   "outputs": [],
   "source": [
    "#                                             ANS.8"
   ]
  },
  {
   "cell_type": "code",
   "execution_count": 14,
   "id": "d67cc16c-c6d5-4d6e-9623-5bdadfff01b0",
   "metadata": {},
   "outputs": [],
   "source": [
    "# A box plot, also known as a box and whisker plot, can be used to display data in terms of range.\n",
    "\n",
    "# A box plot displays the distribution of a dataset using five summary statistics: the minimum value, \n",
    "# the lower quartile (25th percentile), the median (50th percentile), the upper quartile (75th percentile),\n",
    "# and the maximum value. The box in the middle of the plot represents the interquartile range (IQR), which is the \n",
    "# range between the lower and upper quartiles. The \"whiskers\" extend from the box to the minimum and maximum values of the data,\n",
    "# and any points beyond the whiskers are considered outliers.\n",
    "\n",
    "# Box plots are useful for displaying the range of a dataset because they show the minimum and maximum values, as well as the\n",
    "# spread of the data within the interquartile range. They can also be used to compare the distribution of two or more datasets."
   ]
  },
  {
   "cell_type": "code",
   "execution_count": 16,
   "id": "3f0751c5-ba85-48b9-b8d9-d0cbdd81d967",
   "metadata": {},
   "outputs": [],
   "source": [
    "#                                            ANS.9"
   ]
  },
  {
   "cell_type": "code",
   "execution_count": 17,
   "id": "f90f7d61-fff7-405c-8389-2682be63dce7",
   "metadata": {},
   "outputs": [],
   "source": [
    "# Descriptive statistics and inferential statistics are two branches of statistical analysis that are used to understand and \n",
    "# summarize data.\n",
    "\n",
    "# Descriptive statistics is a type of analysis that describes the basic features of a dataset, including its central tendency, \n",
    "# variability, and distribution. It is used to summarize and describe the data in a meaningful way, often through measures\n",
    "# like mean, median, mode, standard deviation, and range.\n",
    "\n",
    "# For example, if a researcher is interested in understanding the average income of a group of people, they might use descriptive\n",
    "# statistics to calculate the mean income, the median income, and the range of incomes for that group.\n",
    "\n",
    "# Inferential statistics, on the other hand, is a type of analysis that uses sample data to make inferences about a larger\n",
    "# population. It is used to test hypotheses and draw conclusions about a population based on a sample. Inferential statistics \n",
    "# involves estimating the probability of an event based on data, and it relies heavily on the concept of statistical significance.\n",
    "\n",
    "# For example, a researcher might use inferential statistics to test whether there is a significant difference in average income\n",
    "# between two groups of people, such as men and women."
   ]
  },
  {
   "cell_type": "code",
   "execution_count": 18,
   "id": "12b29523-1257-4e1b-ae0b-f7010481f652",
   "metadata": {},
   "outputs": [],
   "source": [
    "#                                            ANS.10"
   ]
  },
  {
   "cell_type": "code",
   "execution_count": 19,
   "id": "b3ae8e1d-601e-4582-91ee-fbef878cb166",
   "metadata": {},
   "outputs": [],
   "source": [
    "# There are several common measures of central tendency and variability used in statistics, which are important for understanding\n",
    "# and summarizing data.\n",
    "\n",
    "# Measures of central tendency refer to the typical or most representative value in a dataset, while measures of variability\n",
    "# describe how spread out the data points are. Some common measures of central tendency and variability are:\n",
    "\n",
    "# Mean: The mean is the arithmetic average of all the data points in a dataset. It is found by adding up all the values and\n",
    "# dividing by the number of values. The mean is often used as a measure of central tendency to describe a dataset. \n",
    "# It can provide information about the typical value of the data and is useful in understanding the distribution of the data.\n",
    "\n",
    "# Median: The median is the middle value in a dataset when the values are arranged in order. It is often used as a measure of \n",
    "# central tendency when the data are skewed or have outliers. The median is less sensitive to extreme values than the mean, \n",
    "# so it can give a more accurate representation of the central value of a dataset in these cases.\n",
    "\n",
    "# Mode: The mode is the most common value in a dataset. It is used as a measure of central tendency when looking for the most \n",
    "# frequently occurring value in the data.\n",
    "\n",
    "# Range: The range is the difference between the largest and smallest value in a dataset. It is used as a measure of variability\n",
    "# to describe the spread of the data. The range can give an idea of how much variation there is in the data, but it is sensitive\n",
    "# to extreme values and may not accurately reflect the variability of the data.\n",
    "\n",
    "# Variance: The variance is a measure of how spread out the data is from the mean. It is calculated by taking the average of the\n",
    "# squared differences between each data point and the mean. Variance is useful in describing how much variability there is in \n",
    "# the data, but it is measured in squared units and can be difficult to interpret.\n",
    "\n",
    "# Standard deviation: The standard deviation is the square root of the variance. It is a widely used measure of variability \n",
    "# that describes how much the data points deviate from the mean. The standard deviation is useful in understanding the spread\n",
    "# of the data and can be used to identify outliers."
   ]
  }
 ],
 "metadata": {
  "kernelspec": {
   "display_name": "Python 3 (ipykernel)",
   "language": "python",
   "name": "python3"
  },
  "language_info": {
   "codemirror_mode": {
    "name": "ipython",
    "version": 3
   },
   "file_extension": ".py",
   "mimetype": "text/x-python",
   "name": "python",
   "nbconvert_exporter": "python",
   "pygments_lexer": "ipython3",
   "version": "3.10.8"
  }
 },
 "nbformat": 4,
 "nbformat_minor": 5
}
