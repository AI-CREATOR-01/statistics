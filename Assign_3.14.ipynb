{
 "cells": [
  {
   "cell_type": "markdown",
   "id": "508dbbae",
   "metadata": {},
   "source": [
    "Q1. Write a Python function that takes in two arrays of data and calculates the F-value for a variance ratio\n",
    "test. The function should return the F-value and the corresponding p-value for the test."
   ]
  },
  {
   "cell_type": "code",
   "execution_count": null,
   "id": "2b0364a1",
   "metadata": {},
   "outputs": [],
   "source": [
    "import numpy as np\n",
    "from scipy.stats import f\n",
    "\n",
    "def variance_ratio_test(x, y):\n",
    "    \"\"\"Calculate the F-value and corresponding p-value for a variance ratio test of x and y.\"\"\"\n",
    "    \n",
    "    # Calculate the variance of each array\n",
    "    var_x = np.var(x, ddof=1)\n",
    "    var_y = np.var(y, ddof=1)\n",
    "    \n",
    "    # Calculate the F-value\n",
    "    f_value = var_x / var_y\n",
    "    \n",
    "    # Calculate the degrees of freedom\n",
    "    df_x = len(x) - 1\n",
    "    df_y = len(y) - 1\n",
    "    \n",
    "    # Calculate the p-value\n",
    "    p_value = f.sf(f_value, df_x, df_y)\n",
    "    \n",
    "    return f_value, p_value\n"
   ]
  },
  {
   "cell_type": "code",
   "execution_count": null,
   "id": "5cb047af",
   "metadata": {},
   "outputs": [],
   "source": [
    "x = [1, 2, 3, 4, 5]\n",
    "y = [2, 4, 6, 8, 10]\n",
    "\n",
    "f_value, p_value = variance_ratio_test(x, y)\n",
    "\n",
    "print(f\"F-value: {f_value:.2f}, p-value: {p_value:.2f}\")\n"
   ]
  },
  {
   "cell_type": "markdown",
   "id": "a3bdb2f1",
   "metadata": {},
   "source": [
    "Q2. Given a significance level of 0.05 and the degrees of freedom for the numerator and denominator of an\n",
    "F-distribution, write a Python function that returns the critical F-value for a two-tailed test."
   ]
  },
  {
   "cell_type": "code",
   "execution_count": null,
   "id": "59bc81cd",
   "metadata": {},
   "outputs": [],
   "source": [
    "from scipy.stats import f\n",
    "\n",
    "def critical_f_value(df_num, df_denom, alpha=0.05):\n",
    "    \"\"\"Calculate the critical F-value for a two-tailed test with the given degrees of freedom and significance level.\"\"\"\n",
    "    \n",
    "    # Calculate the critical F-value\n",
    "    crit_f = f.ppf(1 - alpha / 2, df_num, df_denom)\n",
    "    \n",
    "    return crit_f\n"
   ]
  },
  {
   "cell_type": "code",
   "execution_count": null,
   "id": "f5962ea3",
   "metadata": {},
   "outputs": [],
   "source": [
    "df_num = 5\n",
    "df_denom = 20\n",
    "alpha = 0.05\n",
    "\n",
    "crit_f = critical_f_value(df_num, df_denom, alpha)\n",
    "\n",
    "print(f\"Critical F-value: {crit_f:.2f}\")\n"
   ]
  },
  {
   "cell_type": "markdown",
   "id": "a3de7197",
   "metadata": {},
   "source": [
    "Q3. Write a Python program that generates random samples from two normal distributions with known\n",
    "\n",
    "variances and uses an F-test to determine if the variances are equal. The program should output the F-\n",
    "value, degrees of freedom, and p-value for the test."
   ]
  },
  {
   "cell_type": "code",
   "execution_count": null,
   "id": "ff71556b",
   "metadata": {},
   "outputs": [],
   "source": [
    "import numpy as np\n",
    "from scipy.stats import f\n",
    "\n",
    "# Set the parameters\n",
    "mu1 = 0\n",
    "mu2 = 0\n",
    "var1 = 1\n",
    "var2 = 2\n",
    "n1 = 20\n",
    "n2 = 30\n",
    "alpha = 0.05\n",
    "\n",
    "# Generate the random samples\n",
    "x = np.random.normal(mu1, np.sqrt(var1), n1)\n",
    "y = np.random.normal(mu2, np.sqrt(var2), n2)\n",
    "\n",
    "# Calculate the F-value and degrees of freedom\n",
    "df1 = n1 - 1\n",
    "df2 = n2 - 1\n",
    "f_value = var1 / var2\n",
    "\n",
    "# Calculate the p-value\n",
    "p_value = f.sf(f_value, df1, df2)\n",
    "\n",
    "# Determine if the null hypothesis is rejected\n",
    "if p_value < alpha:\n",
    "    print(\"The variances are not equal.\")\n",
    "else:\n",
    "    print(\"The variances are equal.\")\n",
    "\n",
    "# Print the results\n",
    "print(f\"F-value: {f_value:.2f}\")\n",
    "print(f\"Degrees of freedom: ({df1}, {df2})\")\n",
    "print(f\"P-value: {p_value:.4f}\")\n"
   ]
  },
  {
   "cell_type": "markdown",
   "id": "a6946cb1",
   "metadata": {},
   "source": [
    "Q4.The variances of two populations are known to be 10 and 15. A sample of 12 observations is taken from\n",
    "each population. Conduct an F-test at the 5% significance level to determine if the variances are\n",
    "significantly different."
   ]
  },
  {
   "cell_type": "code",
   "execution_count": null,
   "id": "ae8ac3c3",
   "metadata": {},
   "outputs": [],
   "source": [
    "import numpy as np\n",
    "from scipy.stats import f\n",
    "\n",
    "# Set the parameters\n",
    "var1 = 10\n",
    "var2 = 15\n",
    "n1 = 12\n",
    "n2 = 12\n",
    "alpha = 0.05\n",
    "\n",
    "# Calculate the F-value and degrees of freedom\n",
    "df1 = n1 - 1\n",
    "df2 = n2 - 1\n",
    "f_value = var1 / var2\n",
    "\n",
    "# Calculate the p-value\n",
    "p_value = f.sf(f_value, df1, df2)\n",
    "\n",
    "# Determine if the null hypothesis is rejected\n",
    "if p_value < alpha:\n",
    "    print(\"The variances are significantly different.\")\n",
    "else:\n",
    "    print(\"The variances are not significantly different.\")\n",
    "\n",
    "# Print the results\n",
    "print(f\"F-value: {f_value:.2f}\")\n",
    "print(f\"Degrees of freedom: ({df1}, {df2})\")\n",
    "print(f\"P-value: {p_value:.4f}\")\n"
   ]
  },
  {
   "cell_type": "markdown",
   "id": "7edfdd48",
   "metadata": {},
   "source": [
    "Q5. A manufacturer claims that the variance of the diameter of a certain product is 0.005. A sample of 25\n",
    "products is taken, and the sample variance is found to be 0.006. Conduct an F-test at the 1% significance\n",
    "level to determine if the claim is justified."
   ]
  },
  {
   "cell_type": "code",
   "execution_count": null,
   "id": "76286c74",
   "metadata": {},
   "outputs": [],
   "source": [
    "import numpy as np\n",
    "from scipy.stats import f\n",
    "\n",
    "# Set the parameters\n",
    "var_claim = 0.005\n",
    "n = 25\n",
    "var_sample = 0.006\n",
    "alpha = 0.01\n",
    "\n",
    "# Calculate the F-value and degrees of freedom\n",
    "df1 = n - 1\n",
    "df2 = df1\n",
    "f_value = var_sample / var_claim\n",
    "\n",
    "# Calculate the p-value\n",
    "p_value = f.sf(f_value, df1, df2)\n",
    "\n",
    "# Determine if the null hypothesis is rejected\n",
    "if p_value < alpha:\n",
    "    print(\"The claim is not justified.\")\n",
    "else:\n",
    "    print(\"The claim is justified.\")\n",
    "\n",
    "# Print the results\n",
    "print(f\"F-value: {f_value:.4f}\")\n",
    "print(f\"Degrees of freedom: ({df1}, {df2})\")\n",
    "print(f\"P-value: {p_value:.4f}\")\n"
   ]
  },
  {
   "cell_type": "markdown",
   "id": "7059856e",
   "metadata": {},
   "source": [
    "Q6. Write a Python function that takes in the degrees of freedom for the numerator and denominator of an\n",
    "F-distribution and calculates the mean and variance of the distribution. The function should return the\n",
    "mean and variance as a tuple."
   ]
  },
  {
   "cell_type": "code",
   "execution_count": null,
   "id": "ebbd4e13",
   "metadata": {},
   "outputs": [],
   "source": [
    "def f_distribution_mean_var(df1, df2):\n",
    "    \"\"\"\n",
    "    Calculates the mean and variance of an F-distribution given the degrees of freedom\n",
    "    for the numerator and denominator.\n",
    "    \n",
    "    Parameters:\n",
    "        df1 (int): degrees of freedom for the numerator\n",
    "        df2 (int): degrees of freedom for the denominator\n",
    "    \n",
    "    Returns:\n",
    "        tuple: a tuple containing the mean and variance of the F-distribution\n",
    "    \"\"\"\n",
    "    mean = df2 / (df2 - 2)\n",
    "    variance = (2 * (df2 ** 2) * (df1 + df2 - 2)) / ((df1 * (df2 - 2) ** 2 * (df2 - 4)))\n",
    "    return mean, variance\n"
   ]
  },
  {
   "cell_type": "code",
   "execution_count": null,
   "id": "1d9adea1",
   "metadata": {},
   "outputs": [],
   "source": [
    "df1 = 10\n",
    "df2 = 20\n",
    "mean, variance = f_distribution_mean_var(df1, df2)\n",
    "print(f\"Mean: {mean:.4f}, Variance: {variance:.4f}\")\n"
   ]
  },
  {
   "cell_type": "markdown",
   "id": "513b6e08",
   "metadata": {},
   "source": [
    "Q7. A random sample of 10 measurements is taken from a normal population with unknown variance. The\n",
    "sample variance is found to be 25. Another random sample of 15 measurements is taken from another\n",
    "normal population with unknown variance, and the sample variance is found to be 20. Conduct an F-test\n",
    "at the 10% significance level to determine if the variances are significantly different."
   ]
  },
  {
   "cell_type": "markdown",
   "id": "11746ddf",
   "metadata": {},
   "source": [
    "Define the null hypothesis and alternative hypothesis:\n",
    "\n",
    "Null hypothesis: The variances of the two populations are equal.\n",
    "Alternative hypothesis: The variances of the two populations are not equal.\n",
    "Calculate the test statistic F:\n",
    "\n",
    "F = s1^2 / s2^2, where s1^2 is the sample variance of the first sample and s2^2 is the sample variance of the second sample.\n",
    "Calculate the degrees of freedom:\n",
    "\n",
    "df1 = n1 - 1, where n1 is the sample size of the first sample.\n",
    "df2 = n2 - 1, where n2 is the sample size of the second sample.\n",
    "Calculate the p-value:\n",
    "\n",
    "The p-value is the probability of obtaining an F-value as extreme as the one observed, assuming that the null hypothesis is true. We can use an F-distribution table or a statistical software to find the p-value.\n",
    "Compare the p-value to the significance level:\n",
    "\n",
    "If the p-value is less than or equal to the significance level, we reject the null hypothesis. Otherwise, we fail to reject the null hypothesis."
   ]
  },
  {
   "cell_type": "code",
   "execution_count": null,
   "id": "489e2674",
   "metadata": {},
   "outputs": [],
   "source": [
    "import scipy.stats as stats\n",
    "\n",
    "# sample data\n",
    "n1 = 10\n",
    "n2 = 15\n",
    "s1_sq = 25\n",
    "s2_sq = 20\n",
    "\n",
    "# calculate test statistic and p-value\n",
    "f = s1_sq / s2_sq\n",
    "df1 = n1 - 1\n",
    "df2 = n2 - 1\n",
    "p_value = stats.f.sf(f, df1, df2) * 2\n",
    "\n",
    "# compare p-value to significance level\n",
    "alpha = 0.10\n",
    "if p_value <= alpha:\n",
    "    print(f\"The p-value is {p_value:.4f}, which is less than or equal to the significance level of {alpha:.2f}. Therefore, we reject the null hypothesis.\")\n",
    "else:\n",
    "    print(f\"The p-value is {p_value:.4f}, which is greater than the significance level of {alpha:.2f}. Therefore, we fail to reject the null hypothesis.\")\n"
   ]
  },
  {
   "cell_type": "markdown",
   "id": "8c96786e",
   "metadata": {},
   "source": [
    "Q8. The following data represent the waiting times in minutes at two different restaurants on a Saturday\n",
    "night: Restaurant A: 24, 25, 28, 23, 22, 20, 27; Restaurant B: 31, 33, 35, 30, 32, 36. Conduct an F-test at the 5%\n",
    "significance level to determine if the variances are significantly different."
   ]
  },
  {
   "cell_type": "markdown",
   "id": "db318f42",
   "metadata": {},
   "source": [
    "Define the null hypothesis and alternative hypothesis:\n",
    "\n",
    "Null hypothesis: The variances of the waiting times at the two restaurants are equal.\n",
    "Alternative hypothesis: The variances of the waiting times at the two restaurants are not equal.\n",
    "Calculate the sample variances:\n",
    "\n",
    "s1^2 = variance of waiting times at Restaurant A = ((24-24.86)^2 + (25-24.86)^2 + (28-24.86)^2 + (23-24.86)^2 + (22-24.86)^2 + (20-24.86)^2 + (27-24.86)^2) / 6 = 6.29\n",
    "s2^2 = variance of waiting times at Restaurant B = ((31-32.83)^2 + (33-32.83)^2 + (35-32.83)^2 + (30-32.83)^2 + (32-32.83)^2 + (36-32.83)^2) / 5 = 4.97\n",
    "Calculate the test statistic F:\n",
    "\n",
    "F = s1^2 / s2^2 = 6.29 / 4.97 = 1.264\n",
    "Calculate the degrees of freedom:\n",
    "\n",
    "df1 = n1 - 1, where n1 is the sample size of the first sample.\n",
    "df2 = n2 - 1, where n2 is the sample size of the second sample.\n",
    "df1 = 6 - 1 = 5\n",
    "df2 = 5\n",
    "Calculate the p-value:\n",
    "\n",
    "The p-value is the probability of obtaining an F-value as extreme as the one observed, assuming that the null hypothesis is true. We can use an F-distribution table or a statistical software to find the p-value. Using a statistical software, the p-value is found to be 0.2552.\n",
    "Compare the p-value to the significance level:\n",
    "\n",
    "If the p-value is less than or equal to the significance level, we reject the null hypothesis. Otherwise, we fail to reject the null hypothesis."
   ]
  },
  {
   "cell_type": "code",
   "execution_count": null,
   "id": "54c6bb11",
   "metadata": {},
   "outputs": [],
   "source": [
    "import scipy.stats as stats\n",
    "\n",
    "# sample data\n",
    "n1 = 7\n",
    "n2 = 6\n",
    "x1 = [24, 25, 28, 23, 22, 20, 27]\n",
    "x2 = [31, 33, 35, 30, 32, 36]\n",
    "\n",
    "# calculate sample variances\n",
    "s1_sq = sum([(xi - sum(x1) / n1)**2 for xi in x1]) / (n1 - 1)\n",
    "s2_sq = sum([(xi - sum(x2) / n2)**2 for xi in x2]) / (n2 - 1)\n",
    "\n",
    "# calculate test statistic and p-value\n",
    "f = s1_sq / s2_sq\n",
    "df1 = n1 - 1\n",
    "df2 = n2 - 1\n",
    "p_value = stats.f.sf(f, df1, df2) * 2\n",
    "\n",
    "# compare p-value to significance level\n",
    "alpha = 0.05\n",
    "if p_value <= alpha:\n",
    "    print(f\"The p-value is {p_value:.4f}, which is less than or equal to the significance level of {alpha:.2f}. Therefore, we reject the null hypothesis.\")\n",
    "else:\n",
    "    print(f\"The p-value is {p_value:.4f}, which is greater than the significance level\n"
   ]
  },
  {
   "cell_type": "markdown",
   "id": "f709d16d",
   "metadata": {},
   "source": [
    "Q9. The following data represent the test scores of two groups of students: Group A: 80, 85, 90, 92, 87, 83;\n",
    "Group B: 75, 78, 82, 79, 81, 84. Conduct an F-test at the 1% significance level to determine if the variances\n",
    "are significantly different."
   ]
  },
  {
   "cell_type": "code",
   "execution_count": null,
   "id": "1f1168b6",
   "metadata": {},
   "outputs": [],
   "source": [
    "import scipy.stats as stats\n",
    "\n",
    "groupA = [80, 85, 90, 92, 87, 83]\n",
    "groupB = [75, 78, 82, 79, 81, 84]\n",
    "\n",
    "# Calculate the sample variances\n",
    "varA = sum([(x - sum(groupA)/len(groupA))**2 for x in groupA])/(len(groupA) - 1)\n",
    "varB = sum([(x - sum(groupB)/len(groupB))**2 for x in groupB])/(len(groupB) - 1)\n",
    "\n",
    "# Calculate the F-statistic\n",
    "F = varA/varB\n",
    "\n",
    "# Calculate the degrees of freedom\n",
    "dfn = len(groupA) - 1\n",
    "dfd = len(groupB) - 1\n",
    "\n",
    "# Calculate the p-value\n",
    "p_value = 2 * min(stats.f.cdf(F, dfn, dfd), 1 - stats.f.cdf(F, dfn, dfd))\n",
    "\n",
    "# Compare the p-value to the significance level\n",
    "if p_value < 0.01:\n",
    "    print(\"The variances are significantly different.\")\n",
    "else:\n",
    "    print(\"The variances are not significantly different.\")\n"
   ]
  }
 ],
 "metadata": {
  "kernelspec": {
   "display_name": "Python 3 (ipykernel)",
   "language": "python",
   "name": "python3"
  },
  "language_info": {
   "codemirror_mode": {
    "name": "ipython",
    "version": 3
   },
   "file_extension": ".py",
   "mimetype": "text/x-python",
   "name": "python",
   "nbconvert_exporter": "python",
   "pygments_lexer": "ipython3",
   "version": "3.9.13"
  }
 },
 "nbformat": 4,
 "nbformat_minor": 5
}
