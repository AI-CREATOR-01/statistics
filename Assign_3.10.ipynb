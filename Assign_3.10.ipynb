{
 "cells": [
  {
   "cell_type": "markdown",
   "id": "f83f6bf4",
   "metadata": {},
   "source": [
    "Q1: What is Estimation Statistics? Explain point estimate and interval estimate."
   ]
  },
  {
   "cell_type": "markdown",
   "id": "6ff097fe",
   "metadata": {},
   "source": [
    "Estimation statistics is a branch of statistics that deals with estimating the values of population parameters based on sample data. It is used when it is not possible or practical to collect data from an entire population, and instead, a sample of data is collected to make inferences about the population as a whole.\n",
    "\n",
    "Point estimate refers to a single value that is used to estimate a population parameter. It is calculated based on the sample data and is used as an estimate of the population parameter. For example, if we are interested in estimating the population mean height of all adults in a particular city, we might collect a sample of heights and calculate the sample mean height. The sample mean height is a point estimate of the population mean height.\n",
    "\n",
    "Interval estimate, on the other hand, refers to a range of values that is used to estimate a population parameter. It is calculated based on the sample data and is used to provide a range of values within which the population parameter is likely to fall. Confidence intervals are an example of interval estimates. Confidence intervals provide a range of values within which the population parameter is likely to fall, along with a measure of the level of confidence we have in that estimate. For example, a 95% confidence interval for the population mean height would provide a range of values within which we are 95% confident that the true population mean height falls."
   ]
  },
  {
   "cell_type": "markdown",
   "id": "858828f4",
   "metadata": {},
   "source": [
    "Q2. Write a Python function to estimate the population mean using a sample mean and standard\n",
    "deviation."
   ]
  },
  {
   "cell_type": "code",
   "execution_count": 1,
   "id": "99ef8c77",
   "metadata": {},
   "outputs": [],
   "source": [
    "def estimate_pop_mean(sample_mean, sample_std_dev, sample_size):\n",
    "    import math\n",
    "    z_score = 1.96 # assuming a 95% confidence level\n",
    "    margin_of_error = z_score * (sample_std_dev / math.sqrt(sample_size))\n",
    "    lower_bound = sample_mean - margin_of_error\n",
    "    upper_bound = sample_mean + margin_of_error\n",
    "    return (lower_bound, upper_bound)\n"
   ]
  },
  {
   "cell_type": "code",
   "execution_count": 2,
   "id": "2b355912",
   "metadata": {},
   "outputs": [
    {
     "name": "stdout",
     "output_type": "stream",
     "text": [
      "Population mean estimate:  (24.118, 25.882)\n"
     ]
    }
   ],
   "source": [
    "sample_mean = 25\n",
    "sample_std_dev = 4.5\n",
    "sample_size = 100\n",
    "\n",
    "pop_mean_estimate = estimate_pop_mean(sample_mean, sample_std_dev, sample_size)\n",
    "print(\"Population mean estimate: \", pop_mean_estimate)\n"
   ]
  },
  {
   "cell_type": "markdown",
   "id": "40ec1bff",
   "metadata": {},
   "source": [
    "Q3: What is Hypothesis testing? Why is it used? State the importance of Hypothesis testing."
   ]
  },
  {
   "cell_type": "markdown",
   "id": "a4fb9b43",
   "metadata": {},
   "source": [
    "Hypothesis testing is a statistical process used to make inferences about a population parameter based on a sample of data. In other words, it is a method to determine whether a certain hypothesis about a population parameter is true or false based on the available evidence from the sample.\n",
    "\n",
    "Hypothesis testing is used to assess the validity of a claim or assertion about a population based on the information obtained from a sample. It is commonly used in research, quality control, and decision-making processes in various fields such as social sciences, medicine, engineering, and business.\n",
    "\n",
    "The importance of hypothesis testing lies in its ability to provide a systematic and objective way of evaluating the evidence for or against a claim about a population. It helps researchers and decision-makers to make informed decisions based on data and evidence rather than relying on intuition or personal beliefs."
   ]
  },
  {
   "cell_type": "markdown",
   "id": "30829de3",
   "metadata": {},
   "source": [
    "Q4. Create a hypothesis that states whether the average weight of male college students is greater than\n",
    "the average weight of female college students."
   ]
  },
  {
   "cell_type": "markdown",
   "id": "7bb41f92",
   "metadata": {},
   "source": [
    "H0: The average weight of male college students is equal to the average weight of female college students.\n",
    "\n",
    "Ha: The average weight of male college students is greater than the average weight of female college students.\n",
    "\n",
    "In this hypothesis, the null hypothesis (H0) assumes that there is no significant difference in the average weight of male and female college students, while the alternative hypothesis (Ha) suggests that the average weight of male college students is greater than the average weight of female college students."
   ]
  },
  {
   "cell_type": "markdown",
   "id": "41152f34",
   "metadata": {},
   "source": [
    "Q5. Write a Python script to conduct a hypothesis test on the difference between two population means,\n",
    "given a sample from each population."
   ]
  },
  {
   "cell_type": "code",
   "execution_count": 1,
   "id": "798eea7b",
   "metadata": {},
   "outputs": [
    {
     "name": "stdout",
     "output_type": "stream",
     "text": [
      "Sample mean 1: 80.2\n",
      "Sample mean 2: 69.5\n",
      "Sample standard deviation 1: 3.6\n",
      "Sample standard deviation 2: 2.8722813232690143\n",
      "t-statistic: 6.970030814962557\n",
      "p-value: 2.1491918257351988e-06\n",
      "Reject the null hypothesis\n"
     ]
    }
   ],
   "source": [
    "import numpy as np\n",
    "from scipy.stats import ttest_ind\n",
    "\n",
    "# Sample data from two populations\n",
    "pop1 = np.array([82, 78, 75, 86, 79, 81, 77, 83, 76, 85])\n",
    "pop2 = np.array([70, 68, 72, 65, 71, 69, 73, 67, 74, 66])\n",
    "\n",
    "# Calculate sample means and standard deviations\n",
    "mean1 = np.mean(pop1)\n",
    "mean2 = np.mean(pop2)\n",
    "std1 = np.std(pop1)\n",
    "std2 = np.std(pop2)\n",
    "\n",
    "# Set significance level and perform two-sample t-test\n",
    "alpha = 0.05\n",
    "t_stat, p_value = ttest_ind(pop1, pop2, equal_var=False)\n",
    "\n",
    "# Print results\n",
    "print(\"Sample mean 1:\", mean1)\n",
    "print(\"Sample mean 2:\", mean2)\n",
    "print(\"Sample standard deviation 1:\", std1)\n",
    "print(\"Sample standard deviation 2:\", std2)\n",
    "print(\"t-statistic:\", t_stat)\n",
    "print(\"p-value:\", p_value)\n",
    "\n",
    "# Interpret results based on significance level\n",
    "if p_value < alpha:\n",
    "    print(\"Reject the null hypothesis\")\n",
    "else:\n",
    "    print(\"Fail to reject the null hypothesis\")\n"
   ]
  },
  {
   "cell_type": "markdown",
   "id": "4d278194",
   "metadata": {},
   "source": [
    "Q6: What is a null and alternative hypothesis? Give some examples."
   ]
  },
  {
   "cell_type": "markdown",
   "id": "00e72c81",
   "metadata": {},
   "source": [
    "In statistics, the null hypothesis and alternative hypothesis are two opposing statements used to test a claim or hypothesis about a population. The null hypothesis is the default assumption that there is no significant difference or relationship between two or more variables, while the alternative hypothesis is the claim that there is a significant difference or relationship between the variables.\n",
    "\n",
    "Here are some examples of null and alternative hypotheses:\n",
    "\n",
    "Example for a study on the effect of a new drug on blood pressure:\n",
    "Null Hypothesis: The new drug has no effect on blood pressure.\n",
    "\n",
    "Alternative Hypothesis: The new drug has a significant effect on blood pressure.\n",
    "\n",
    "Example for a study on the effect of music on test scores:\n",
    "Null Hypothesis: There is no significant difference in test scores between students who listen to music and those who do not.\n",
    "\n",
    "Alternative Hypothesis: Students who listen to music during the test perform significantly better than those who do not."
   ]
  },
  {
   "cell_type": "markdown",
   "id": "9750ca91",
   "metadata": {},
   "source": [
    "Q7: Write down the steps involved in hypothesis testing."
   ]
  },
  {
   "cell_type": "markdown",
   "id": "ae6be4a2",
   "metadata": {},
   "source": [
    "Hypothesis testing is a statistical method used to determine whether a hypothesis or claim about a population is supported by the data. The following are the general steps involved in hypothesis testing:\n",
    "\n",
    "1.State the null and alternative hypotheses: Define the null and alternative hypotheses based on the research question and         available information. The null hypothesis is the default assumption that there is no significant difference or relationship     between two or more variables, while the alternative hypothesis is the claim that there is a significant difference or           relationship between the variables.\n",
    "\n",
    "2.Choose a significance level: Choose a significance level (alpha) to determine the threshold for rejecting the null hypothesis.   Common choices for alpha are 0.05 or 0.01, which correspond to a 5% or 1% chance of rejecting the null hypothesis when it is     actually true.\n",
    "\n",
    "3.Select a test statistic and distribution: Select a test statistic that measures the difference between the observed data and     the null hypothesis. The choice of test statistic depends on the research question and the type of data being analyzed. The     test statistic follows a specific distribution under the null hypothesis, such as the normal distribution or t-distribution.\n",
    "\n",
    "4.Calculate the test statistic and p-value: Calculate the test statistic and the corresponding p-value, which is the probability   of obtaining a test statistic as extreme as or more extreme than the observed value, assuming that the null hypothesis is       true.\n",
    "\n",
    "5.Interpret the results: Compare the p-value to the significance level. If the p-value is less than or equal to the significance   level, reject the null hypothesis in favor of the alternative hypothesis. If the p-value is greater than the significance       level, fail to reject the null hypothesis.\n",
    "\n",
    "6.Draw conclusions: Draw conclusions based on the results of the hypothesis test. If the null hypothesis is rejected, the         alternative hypothesis is supported, and there is evidence of a significant difference or relationship. If the null hypothesis   is not rejected, there is insufficient evidence to support the alternative hypothesis.\n",
    "\n",
    "7.Communicate the results: Communicate the results of the hypothesis test in a clear and concise manner, including the null and   alternative hypotheses, the test statistic and p-value, the conclusion, and any limitations or assumptions made in the           analysis."
   ]
  },
  {
   "cell_type": "markdown",
   "id": "f421e491",
   "metadata": {},
   "source": [
    "Q8. Define p-value and explain its significance in hypothesis testing."
   ]
  },
  {
   "cell_type": "markdown",
   "id": "a2c77e8f",
   "metadata": {},
   "source": [
    "In hypothesis testing, the p-value is the probability of obtaining a test statistic as extreme as or more extreme than the observed value, assuming that the null hypothesis is true. The p-value provides a measure of the strength of the evidence against the null hypothesis and is a key component in making decisions about whether to reject or fail to reject the null hypothesis.\n",
    "\n",
    "The significance of the p-value in hypothesis testing depends on the chosen significance level (alpha). If the p-value is less than or equal to the significance level, the result is considered statistically significant, and the null hypothesis is rejected in favor of the alternative hypothesis. This means that there is strong evidence to support the alternative hypothesis and that the observed difference or relationship is unlikely to have occurred by chance.\n",
    "\n",
    "On the other hand, if the p-value is greater than the significance level, the result is considered not statistically significant, and the null hypothesis is not rejected. This means that there is insufficient evidence to support the alternative hypothesis, and that the observed difference or relationship may have occurred by chance."
   ]
  },
  {
   "cell_type": "markdown",
   "id": "505d719b",
   "metadata": {},
   "source": [
    "Q9. Generate a Student's t-distribution plot using Python's matplotlib library, with the degrees of freedom\n",
    "parameter set to 10."
   ]
  },
  {
   "cell_type": "code",
   "execution_count": 2,
   "id": "e01f836c",
   "metadata": {},
   "outputs": [
    {
     "data": {
      "image/png": "[encoded data removed]",
      "text/plain": [
       "<Figure size 640x480 with 1 Axes>"
      ]
     },
     "metadata": {},
     "output_type": "display_data"
    }
   ],
   "source": [
    "import matplotlib.pyplot as plt\n",
    "import numpy as np\n",
    "from scipy.stats import t\n",
    "\n",
    "# Set the degrees of freedom parameter\n",
    "df = 10\n",
    "\n",
    "# Generate the x-axis values for the plot\n",
    "x = np.linspace(-4, 4, 100)\n",
    "\n",
    "# Generate the y-axis values for the plot\n",
    "y = t.pdf(x, df)\n",
    "\n",
    "# Plot the t-distribution\n",
    "plt.plot(x, y)\n",
    "\n",
    "# Set the plot title and labels\n",
    "plt.title(\"Student's t-distribution (df=10)\")\n",
    "plt.xlabel(\"x\")\n",
    "plt.ylabel(\"Probability density\")\n",
    "\n",
    "# Display the plot\n",
    "plt.show()\n"
   ]
  },
  {
   "cell_type": "markdown",
   "id": "5c002000",
   "metadata": {},
   "source": [
    "Q10. Write a Python program to calculate the two-sample t-test for independent samples, given two\n",
    "random samples of equal size and a null hypothesis that the population means are equal."
   ]
  },
  {
   "cell_type": "code",
   "execution_count": 3,
   "id": "3d27d0e4",
   "metadata": {},
   "outputs": [
    {
     "name": "stdout",
     "output_type": "stream",
     "text": [
      "Sample 1 mean: 9.759434724838183\n",
      "Sample 2 mean: 12.018890514532405\n",
      "Sample 1 standard deviation: 2.224603606044645\n",
      "Sample 2 standard deviation: 2.205417427618435\n",
      "t-statistic: -7.212884611048655\n",
      "p-value: 1.1360690166384302e-11\n"
     ]
    }
   ],
   "source": [
    "import numpy as np\n",
    "from scipy.stats import t\n",
    "\n",
    "# Generate two random samples of equal size\n",
    "sample1 = np.random.normal(10, 2, 100)\n",
    "sample2 = np.random.normal(12, 2, 100)\n",
    "\n",
    "# Calculate the sample means and standard deviations\n",
    "mean1 = np.mean(sample1)\n",
    "mean2 = np.mean(sample2)\n",
    "sd1 = np.std(sample1, ddof=1)\n",
    "sd2 = np.std(sample2, ddof=1)\n",
    "\n",
    "# Calculate the t-statistic and degrees of freedom\n",
    "n1 = len(sample1)\n",
    "n2 = len(sample2)\n",
    "df = n1 + n2 - 2\n",
    "s_pooled = np.sqrt(((n1-1)*sd1**2 + (n2-1)*sd2**2)/df)\n",
    "t_stat = (mean1 - mean2) / (s_pooled * np.sqrt(1/n1 + 1/n2))\n",
    "\n",
    "# Calculate the p-value for a two-tailed test\n",
    "p_value = 2 * (1 - t.cdf(abs(t_stat), df))\n",
    "\n",
    "# Print the results\n",
    "print(\"Sample 1 mean:\", mean1)\n",
    "print(\"Sample 2 mean:\", mean2)\n",
    "print(\"Sample 1 standard deviation:\", sd1)\n",
    "print(\"Sample 2 standard deviation:\", sd2)\n",
    "print(\"t-statistic:\", t_stat)\n",
    "print(\"p-value:\", p_value)\n"
   ]
  },
  {
   "cell_type": "markdown",
   "id": "df1dcea3",
   "metadata": {},
   "source": [
    "Q11: What is Student’s t distribution? When to use the t-Distribution."
   ]
  },
  {
   "cell_type": "markdown",
   "id": "b173edbb",
   "metadata": {},
   "source": [
    "Student's t-distribution is a probability distribution that is used to model situations where the sample size is small (less than 30) and the population standard deviation is unknown. It is a bell-shaped distribution that is symmetric around zero, and is similar in shape to the standard normal distribution but with thicker tails. The shape of the t-distribution depends on the degrees of freedom, which are defined as the sample size minus one.\n",
    "\n",
    "The t-distribution is used in hypothesis testing and confidence interval estimation for small sample sizes when the population standard deviation is unknown. Specifically, it is used to test hypotheses about the mean of a normally distributed population, when the sample size is too small to rely on the normal distribution. It is also used in cases where the population is not normally distributed, but the sample size is large enough to invoke the Central Limit Theorem."
   ]
  },
  {
   "cell_type": "markdown",
   "id": "0baa0923",
   "metadata": {},
   "source": [
    "Q12: What is t-statistic? State the formula for t-statistic."
   ]
  },
  {
   "cell_type": "markdown",
   "id": "05122ee6",
   "metadata": {},
   "source": [
    "The t-statistic is a measure of the difference between the sample mean and the hypothesized population mean, in units of the standard error. It is used in hypothesis testing to determine whether the difference between the sample mean and the hypothesized population mean is statistically significant.\n",
    "\n",
    "The formula for the t-statistic is:\n",
    "\n",
    "t = (x̄ - μ) / (s / √n)\n",
    "\n",
    "where:\n",
    "\n",
    "x̄ is the sample mean\n",
    "\n",
    "μ is the hypothesized population mean\n",
    "\n",
    "s is the sample standard deviation\n",
    "\n",
    "n is the sample size\n",
    "\n",
    "\n",
    "The t-statistic measures the difference between the sample mean and the hypothesized population mean in units of the standard error, which is calculated as s/√n. If the absolute value of the t-statistic is large, it indicates that the sample mean is far from the hypothesized population mean and is unlikely to have occurred by chance alone. On the other hand, if the absolute value of the t-statistic is small, it suggests that the sample mean is not very different from the hypothesized population mean, and the null hypothesis may be retained.\n",
    "\n",
    "\n",
    "\n"
   ]
  },
  {
   "cell_type": "markdown",
   "id": "3c41f6bb",
   "metadata": {},
   "source": [
    "Q13. A coffee shop owner wants to estimate the average daily revenue for their shop. They take a random\n",
    "     sample of 50 days and find the sample mean revenue to be $500 with a standard deviation of $50.\n",
    "     Estimate the population mean revenue with a 95% confidence interval."
   ]
  },
  {
   "cell_type": "markdown",
   "id": "89e6e244",
   "metadata": {},
   "source": [
    "To estimate the population mean revenue with a 95% confidence interval, we can use the following formula:\n",
    "\n",
    "CI = x̄ ± z* (σ/√n)\n",
    "\n",
    "where:\n",
    "\n",
    "x̄ is the sample mean revenue ($500)\n",
    "z* is the critical value from the standard normal distribution for a 95% confidence level (1.96)\n",
    "σ is the population standard deviation, which is unknown, but we can use the sample standard deviation as an estimate ($50)\n",
    "n is the sample size (50)\n",
    "Substituting the values in the formula, we get:\n",
    "\n",
    "CI = 500 ± 1.96 * (50/√50)\n",
    "CI = 500 ± 1.96 * 7.07\n",
    "CI = 500 ± 13.88\n",
    "\n",
    "Therefore, the 95% confidence interval for the population mean revenue is ($486.12, $513.88). This means that we can be 95% confident that the true average daily revenue for the coffee shop is between $486.12 and $513.88 based on the given sample."
   ]
  },
  {
   "cell_type": "markdown",
   "id": "fa2ca548",
   "metadata": {},
   "source": [
    "Q14. A researcher hypothesizes that a new drug will decrease blood pressure by 10 mmHg. They conduct a\n",
    "clinical trial with 100 patients and find that the sample mean decrease in blood pressure is 8 mmHg with a\n",
    "standard deviation of 3 mmHg. Test the hypothesis with a significance level of 0.05."
   ]
  },
  {
   "cell_type": "markdown",
   "id": "c77117a1",
   "metadata": {},
   "source": [
    "To test the hypothesis with a significance level of 0.05, we can use a one-sample t-test. The null hypothesis (H0) is that the true mean decrease in blood pressure is not 10 mmHg, and the alternative hypothesis (Ha) is that the true mean decrease in blood pressure is 10 mmHg.\n",
    "\n",
    "We can calculate the t-statistic using the following formula:\n",
    "\n",
    "t = (x̄ - μ) / (s / √n)\n",
    "\n",
    "where:\n",
    "\n",
    "x̄ is the sample mean decrease in blood pressure (8 mmHg)\n",
    "μ is the hypothesized mean decrease in blood pressure (10 mmHg)\n",
    "s is the sample standard deviation (3 mmHg)\n",
    "n is the sample size (100)\n",
    "Substituting the values in the formula, we get:\n",
    "\n",
    "t = (8 - 10) / (3 / √100)\n",
    "t = -2 / 0.3\n",
    "t = -6.67\n",
    "\n",
    "Using a t-distribution table with 99 degrees of freedom (df = n - 1), we can find the critical t-value for a significance level of 0.05 with a two-tailed test. The critical t-value is ±1.984.\n",
    "\n",
    "Since the calculated t-value (-6.67) is less than the critical t-value (-1.984), we reject the null hypothesis and conclude that the new drug significantly decreases blood pressure by 10 mmHg at a significance level of 0.05."
   ]
  },
  {
   "cell_type": "markdown",
   "id": "2865c74b",
   "metadata": {},
   "source": [
    "Q15. An electronics company produces a certain type of product with a mean weight of 5 pounds and a\n",
    "standard deviation of 0.5 pounds. A random sample of 25 products is taken, and the sample mean weight\n",
    "is found to be 4.8 pounds. Test the hypothesis that the true mean weight of the products is less than 5\n",
    "pounds with a significance level of 0.01."
   ]
  },
  {
   "cell_type": "markdown",
   "id": "3ef429a0",
   "metadata": {},
   "source": [
    "To test the hypothesis that the true mean weight of the products is less than 5 pounds with a significance level of 0.01, we can use a one-sample t-test. The null hypothesis (H0) is that the true mean weight of the products is equal to or greater than 5 pounds, and the alternative hypothesis (Ha) is that the true mean weight of the products is less than 5 pounds.\n",
    "\n",
    "We can calculate the t-statistic using the following formula:\n",
    "\n",
    "t = (x̄ - μ) / (s / √n)\n",
    "\n",
    "where:\n",
    "\n",
    "x̄ is the sample mean weight (4.8 pounds)\n",
    "μ is the hypothesized mean weight (5 pounds)\n",
    "s is the sample standard deviation (0.5 pounds)\n",
    "n is the sample size (25)\n",
    "Substituting the values in the formula, we get:\n",
    "\n",
    "t = (4.8 - 5) / (0.5 / √25)\n",
    "t = -0.2 / 0.1\n",
    "t = -2\n",
    "\n",
    "Using a t-distribution table with 24 degrees of freedom (df = n - 1), we can find the critical t-value for a significance level of 0.01 with a one-tailed test. The critical t-value is -2.492.\n",
    "\n",
    "Since the calculated t-value (-2) is greater than the critical t-value (-2.492), we fail to reject the null hypothesis and conclude that there is not enough evidence to support the claim that the true mean weight of the products is less than 5 pounds at a significance level of 0.01."
   ]
  },
  {
   "cell_type": "markdown",
   "id": "156f5811",
   "metadata": {},
   "source": [
    "Q16. Two groups of students are given different study materials to prepare for a test. The first group (n1 =\n",
    "30) has a mean score of 80 with a standard deviation of 10, and the second group (n2 = 40) has a mean\n",
    "score of 75 with a standard deviation of 8. Test the hypothesis that the population means for the two\n",
    "groups are equal with a significance level of 0.01."
   ]
  },
  {
   "cell_type": "markdown",
   "id": "be2c8d4b",
   "metadata": {},
   "source": [
    "To test the hypothesis that the population means for the two groups are equal, we can use a two-sample t-test.\n",
    "\n",
    "The null hypothesis is that the population means for the two groups are equal, and the alternative hypothesis is that they are not equal.\n",
    "\n",
    "H0: μ1 = μ2\n",
    "Ha: μ1 ≠ μ2\n",
    "\n",
    "Here, n1 = 30, n2 = 40, x̄1 = 80, x̄2 = 75, s1 = 10, s2 = 8, and α = 0.01.\n",
    "\n",
    "We can calculate the test statistic using the formula:\n",
    "\n",
    "t = (x̄1 - x̄2) / sqrt [ (s1^2 / n1) + (s2^2 / n2) ]\n",
    "\n",
    "Plugging in the values, we get:\n",
    "\n",
    "t = (80 - 75) / sqrt [ (10^2 / 30) + (8^2 / 40) ]\n",
    "t = 3.118\n",
    "\n",
    "Using a t-distribution table with degrees of freedom = n1 + n2 - 2 = 68 and α = 0.01, we find the critical values to be ±2.634.\n",
    "\n",
    "Since our calculated t-value (3.118) is greater than the critical value (2.634), we reject the null hypothesis. Therefore, we can conclude that there is sufficient evidence to suggest that the population means for the two groups are not equal at a significance level of 0.01."
   ]
  },
  {
   "cell_type": "markdown",
   "id": "a4b98a61",
   "metadata": {},
   "source": [
    "Q17. A marketing company wants to estimate the average number of ads watched by viewers during a TV\n",
    "program. They take a random sample of 50 viewers and find that the sample mean is 4 with a standard\n",
    "deviation of 1.5. Estimate the population mean with a 99% confidence interval."
   ]
  },
  {
   "cell_type": "markdown",
   "id": "ed0809d8",
   "metadata": {},
   "source": [
    "To estimate the population mean with a 99% confidence interval, we can use the formula:\n",
    "\n",
    "CI = x̄ ± tα/2 * (s / sqrt(n))\n",
    "\n",
    "where:\n",
    "x̄ is the sample mean\n",
    "s is the sample standard deviation\n",
    "n is the sample size\n",
    "tα/2 is the critical value for the t-distribution with (n - 1) degrees of freedom and α/2 significance level\n",
    "\n",
    "Here, x̄ = 4, s = 1.5, and n = 50. We need to find the critical value for the t-distribution with 49 degrees of freedom and α/2 = 0.005 (since we want a 99% confidence interval). Using a t-distribution table or calculator, we find that t0.005,49 = 2.680.\n",
    "\n",
    "Plugging in the values, we get:\n",
    "\n",
    "CI = 4 ± 2.680 * (1.5 / sqrt(50))\n",
    "CI = 4 ± 0.629\n",
    "\n",
    "Therefore, the 99% confidence interval for the population mean is (3.371, 4.629). We can say with 99% confidence that the true average number of ads watched by viewers during a TV program is between 3.371 and 4.629."
   ]
  },
  {
   "cell_type": "code",
   "execution_count": null,
   "id": "0433cb01",
   "metadata": {},
   "outputs": [],
   "source": []
  }
 ],
 "metadata": {
  "kernelspec": {
   "display_name": "Python 3 (ipykernel)",
   "language": "python",
   "name": "python3"
  },
  "language_info": {
   "codemirror_mode": {
    "name": "ipython",
    "version": 3
   },
   "file_extension": ".py",
   "mimetype": "text/x-python",
   "name": "python",
   "nbconvert_exporter": "python",
   "pygments_lexer": "ipython3",
   "version": "3.9.13"
  }
 },
 "nbformat": 4,
 "nbformat_minor": 5
}
