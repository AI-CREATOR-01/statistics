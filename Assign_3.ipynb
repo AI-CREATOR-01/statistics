{
 "cells": [
  {
   "cell_type": "markdown",
   "id": "dacf3d8a",
   "metadata": {},
   "source": [
    "Q1. What is the Probability density function?"
   ]
  },
  {
   "cell_type": "markdown",
   "id": "12ec8a79",
   "metadata": {},
   "source": [
    "The probability density function (PDF) is a mathematical function used to describe the probability distribution of a continuous random variable."
   ]
  },
  {
   "cell_type": "markdown",
   "id": "1608ae03",
   "metadata": {},
   "source": [
    "Q2. What are the types of Probability distribution?"
   ]
  },
  {
   "cell_type": "markdown",
   "id": "0341c5c3",
   "metadata": {},
   "source": [
    "1.Uniform probability distribution:\n",
    "\n",
    "A uniform probability distribution is a continuous probability distribution in which all values within a certain range are equally likely to occur.\n",
    "\n",
    "2.Bernoulli distribution:\n",
    "\n",
    "A Bernoulli distribution is a discrete probability distribution that represents the outcome of a single binary event, such as a coin flip. The Bernoulli distribution takes on a value of 1 with probability p and a value of 0 with probability 1-p, where p is the probability of success.\n",
    "\n",
    "3.Binomial distribution: \n",
    "\n",
    "A binomial distribution is a discrete probability distribution that represents the number of successes in a fixed number of independent binary trials, each with the same probability of success. Examples of binomial distributions include the number of heads in a fixed number of coin flips or the number of defective items in a fixed number of manufacturing runs.\n",
    "\n",
    "4.Poisson distribution:\n",
    "\n",
    "A Poisson distribution is a discrete probability distribution that represents the number of occurrences of a rare event in a fixed interval of time or space. Examples of Poisson distributions include the number of customer arrivals in a fixed time period or the number of defects in a fixed length of wire.\n",
    "\n",
    "\n",
    "5.Normal distribution:\n",
    "\n",
    "Normal distribution, also known as the Gaussian distribution, is a continuous probability distribution that is widely used in statistical analysis.\n",
    "\n",
    "A normal distribution is characterized by its mean (μ) and standard deviation (σ), and its PDF has a bell-shaped curve."
   ]
  },
  {
   "cell_type": "markdown",
   "id": "9f11fb35",
   "metadata": {},
   "source": [
    "Q3. Write a Python function to calculate the probability density function of a normal distribution with\n",
    "given mean and standard deviation at a given point."
   ]
  },
  {
   "cell_type": "code",
   "execution_count": 2,
   "id": "56df62e8",
   "metadata": {},
   "outputs": [
    {
     "name": "stdout",
     "output_type": "stream",
     "text": [
      "0.10798193302637613\n"
     ]
    }
   ],
   "source": [
    "import math\n",
    "\n",
    "def normal_pdf(x, mean, std_dev):\n",
    "    coef = 1 / (std_dev * math.sqrt(2 * math.pi))\n",
    "    exponent = -((x - mean) ** 2) / (2 * std_dev ** 2)\n",
    "    return coef * math.exp(exponent)\n",
    "pdf_value = normal_pdf(0, 1, 0.5)\n",
    "print(pdf_value) "
   ]
  },
  {
   "cell_type": "markdown",
   "id": "80184981",
   "metadata": {},
   "source": [
    "Q4. What are the properties of Binomial distribution? Give two examples of events where binomial\n",
    "distribution can be applied."
   ]
  },
  {
   "cell_type": "markdown",
   "id": "b858a7fb",
   "metadata": {},
   "source": [
    "The Binomial distribution is a discrete probability distribution that describes the number of successes in a fixed number of independent trials with two possible outcomes, \"success\" and \"failure\", and a fixed probability of success (p) for each trial.\n",
    "\n",
    "The properties of the Binomial distribution are:\n",
    "\n",
    "1.The probability of success (p) is constant for all trials.\n",
    "2.The trials are independent of each other.\n",
    "3.The number of trials (n) is fixed.\n",
    "4.The random variable X, which represents the number of successes in n trials, has a Binomial distribution.\n",
    "5.The mean (μ) and variance (σ^2) of the Binomial distribution are μ = np and σ^2 = np(1-p).\n",
    "\n",
    "Two examples of events where the Binomial distribution can be applied are:\n",
    "\n",
    "A coin toss:\n",
    "\n",
    "A coin has two possible outcomes, heads or tails, with a fixed probability of 0.5 for each outcome. Suppose we flip the coin 10 times and want to know the probability of getting exactly 6 heads. This is an example of a Binomial distribution with n = 10 and p = 0.5.\n",
    "\n",
    "Election results:\n",
    "\n",
    "In a political election, voters can either vote for candidate A or candidate B. Suppose there are 1000 voters and we want to know the probability that candidate A wins if they have a 55% chance of getting a vote. This is also an example of a Binomial distribution with n = 1000 and p = 0.55. We can use this distribution to calculate the probability of candidate A winning a certain number of votes or winning the entire election."
   ]
  },
  {
   "cell_type": "markdown",
   "id": "012d39f9",
   "metadata": {},
   "source": [
    "Q5. Generate a random sample of size 1000 from a binomial distribution with probability of success 0.4\n",
    "and plot a histogram of the results using matplotlib."
   ]
  },
  {
   "cell_type": "code",
   "execution_count": 4,
   "id": "3429a39b",
   "metadata": {},
   "outputs": [
    {
     "data": {
      "image/png": "[encoded data removed]",
      "text/plain": [
       "<Figure size 640x480 with 1 Axes>"
      ]
     },
     "metadata": {},
     "output_type": "display_data"
    }
   ],
   "source": [
    "import numpy as np\n",
    "import matplotlib.pyplot as plt\n",
    "\n",
    "# Set the parameters of the binomial distribution\n",
    "n = 1000  # sample size\n",
    "p = 0.4  # probability of success\n",
    "\n",
    "# Generate a random sample from the binomial distribution\n",
    "sample = np.random.binomial(n, p, size=1000)\n",
    "\n",
    "# Plot a histogram of the sample\n",
    "plt.hist(sample, bins=range(0, n+1), align='left', alpha=0.5)\n",
    "plt.xlabel('Number of successes')\n",
    "plt.ylabel('Frequency')\n",
    "plt.title('Binomial distribution with p=0.4 and n=1000')\n",
    "plt.show()\n"
   ]
  },
  {
   "cell_type": "markdown",
   "id": "ecc894c7",
   "metadata": {},
   "source": [
    "Q6. Write a Python function to calculate the cumulative distribution function of a Poisson distribution\n",
    "with given mean at a given point."
   ]
  },
  {
   "cell_type": "code",
   "execution_count": 5,
   "id": "7304a89e",
   "metadata": {},
   "outputs": [
    {
     "data": {
      "text/plain": [
       "0.9999994482467641"
      ]
     },
     "execution_count": 5,
     "metadata": {},
     "output_type": "execute_result"
    }
   ],
   "source": [
    "import math\n",
    "\n",
    "def poisson_cdf(mean, k):\n",
    "    \n",
    "    cdf = sum([(mean ** i / math.factorial(i)) * math.exp(-mean) for i in range(k+1)])\n",
    "    \n",
    "    return cdf"
   ]
  },
  {
   "cell_type": "markdown",
   "id": "058f3865",
   "metadata": {},
   "source": [
    "Q7. How Binomial distribution different from Poisson distribution?"
   ]
  },
  {
   "cell_type": "markdown",
   "id": "dd071507",
   "metadata": {},
   "source": [
    "The binomial distribution and Poisson distribution are both probability distributions used to model discrete random variables. However, they have some key differences:\n",
    "\n",
    "Definition: \n",
    "\n",
    "The binomial distribution is used to model the number of successes in a fixed number of independent trials, where each trial has the same probability of success. The Poisson distribution is used to model the number of rare events occurring in a fixed interval of time or space.\n",
    "\n",
    "Parameters: \n",
    "\n",
    "The binomial distribution has two parameters: the number of trials (n) and the probability of success (p). The Poisson distribution has one parameter: the average number of rare events (λ) occurring in the fixed interval.\n",
    "\n",
    "Assumptions: \n",
    "\n",
    "The binomial distribution assumes that the trials are independent and identically distributed, and that the probability of success is constant for all trials. The Poisson distribution assumes that the rare events occur independently of each other, and that the probability of an event occurring in a small interval is proportional to the length of the interval.\n",
    "\n",
    "Shape:\n",
    "\n",
    "The binomial distribution is bell-shaped and approaches a normal distribution as the number of trials increases. The Poisson distribution is a skewed distribution with a longer tail on the right.\n",
    "\n",
    "Application: \n",
    "\n",
    "The binomial distribution is commonly used in experiments and surveys to model the number of successes or failures, such as the number of heads in a series of coin flips or the number of people who respond \"yes\" in a survey. The Poisson distribution is commonly used in physics, biology, and other natural sciences to model rare events, such as the number of radioactive particles emitted in a fixed time interval or the number of mutations occurring in a genome."
   ]
  },
  {
   "cell_type": "markdown",
   "id": "c3b5fda1",
   "metadata": {},
   "source": [
    "Q8. Generate a random sample of size 1000 from a Poisson distribution with mean 5 and calculate the\n",
    "sample mean and variance."
   ]
  },
  {
   "cell_type": "code",
   "execution_count": 6,
   "id": "5cdec1b8",
   "metadata": {},
   "outputs": [
    {
     "name": "stdout",
     "output_type": "stream",
     "text": [
      "Sample mean: 4.881\n",
      "Sample variance: 4.922839000000001\n"
     ]
    }
   ],
   "source": [
    "import numpy as np\n",
    "\n",
    "sample_size = 1000\n",
    "mean = 5\n",
    "\n",
    "sample = np.random.poisson(mean, sample_size)\n",
    "\n",
    "sample_mean = np.mean(sample)\n",
    "sample_variance = np.var(sample)\n",
    "\n",
    "print(\"Sample mean:\", sample_mean)\n",
    "print(\"Sample variance:\", sample_variance)\n"
   ]
  },
  {
   "cell_type": "markdown",
   "id": "da3f4272",
   "metadata": {},
   "source": [
    "Q9. How mean and variance are related in Binomial distribution and Poisson distribution?"
   ]
  },
  {
   "cell_type": "markdown",
   "id": "fd0c4dba",
   "metadata": {},
   "source": [
    "In both Binomial and Poisson distributions, the mean and variance are related, but the exact nature of the relationship is different.\n",
    "\n",
    "For the Binomial distribution, the mean (μ) and variance (σ^2) are related by the formula:\n",
    "\n",
    "σ^2 = μ(1-μ)/n\n",
    "\n",
    "Where n is the number of trials and μ is the probability of success on each trial. This formula shows that the variance of the Binomial distribution is dependent on both the mean and the number of trials. As the number of trials increases, the variance of the Binomial distribution decreases.\n",
    "\n",
    "For the Poisson distribution, the mean (λ) and variance (σ^2) are related by the formula:\n",
    "\n",
    "σ^2 = λ"
   ]
  },
  {
   "cell_type": "markdown",
   "id": "6e47d54e",
   "metadata": {},
   "source": [
    "Q10. In normal distribution with respect to mean position, where does the least frequent data appear?"
   ]
  },
  {
   "cell_type": "markdown",
   "id": "65060c5b",
   "metadata": {},
   "source": [
    "In a normal distribution, the data is symmetric around the mean. This means that the least frequent data appears at the tails of the distribution, farthest away from the mean.\n",
    "\n",
    "The normal distribution is a bell-shaped curve, with the majority of the data clustered around the mean. The frequency of data decreases as you move away from the mean towards the tails of the distribution. The tails of the distribution represent the extreme values of the variable being measured, and are the least frequent data points."
   ]
  }
 ],
 "metadata": {
  "kernelspec": {
   "display_name": "Python 3 (ipykernel)",
   "language": "python",
   "name": "python3"
  },
  "language_info": {
   "codemirror_mode": {
    "name": "ipython",
    "version": 3
   },
   "file_extension": ".py",
   "mimetype": "text/x-python",
   "name": "python",
   "nbconvert_exporter": "python",
   "pygments_lexer": "ipython3",
   "version": "3.9.13"
  }
 },
 "nbformat": 4,
 "nbformat_minor": 5
}
