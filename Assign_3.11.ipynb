{
 "cells": [
  {
   "cell_type": "markdown",
   "id": "ccbc66c1",
   "metadata": {},
   "source": [
    "Q1: What is the difference between a t-test and a z-test? Provide an example scenario where you would\n",
    "use each type of test."
   ]
  },
  {
   "cell_type": "markdown",
   "id": "c3d26ad4",
   "metadata": {},
   "source": [
    "Both t-test and z-test are statistical tests that are used to determine the significance of a difference between two groups or samples.\n",
    "\n",
    "The main difference between t-test and z-test is the type of data they are used for. T-test is used for small sample sizes (usually less than 30), whereas z-test is used for large sample sizes (usually greater than 30).\n",
    "\n",
    "A t-test is appropriate when the sample size is small or the population standard deviation is unknown. A z-test, on the other hand, is used when the sample size is large, and the population standard deviation is known.\n",
    "\n",
    "Example of a scenario where a t-test would be used:\n",
    "Suppose we want to test if there is a significant difference in the average height of two groups of students (Group A and Group B). we take a sample of 20 students from each group and measure their height. Since the sample size is small, we would use a t-test to determine if there is a significant difference in the average height between the two groups.\n",
    "\n",
    "Example of a scenario where a z-test would be used:\n",
    "Suppose we want to test if there is a significant difference in the average weight of all students in a university compared to the national average weight of students. we collect a sample of 500 students from the university and know the population standard deviation of student weights. Since the sample size is large, and the population standard deviation is known, we would use a z-test to determine if there is a significant difference between the average weight of the university students and the national average weight of students."
   ]
  },
  {
   "cell_type": "markdown",
   "id": "cd07c762",
   "metadata": {},
   "source": [
    "Q2: Differentiate between one-tailed and two-tailed tests."
   ]
  },
  {
   "cell_type": "markdown",
   "id": "2ab084c1",
   "metadata": {},
   "source": [
    "One-tailed and two-tailed tests are statistical tests used to determine whether there is a significant difference between two groups or samples.\n",
    "\n",
    "One-tailed test:\n",
    "A one-tailed test is a statistical test in which the alternative hypothesis specifies the direction of the difference between the two groups or samples. In other words, it tests for the possibility of a significant difference in one direction only, either a positive or a negative direction. The critical region for a one-tailed test is located in one tail of the distribution.\n",
    "\n",
    "For example, suppose you want to test if a new drug improves a patient's condition. The null hypothesis is that the drug has no effect on the patient's condition. The alternative hypothesis for a one-tailed test would be that the drug improves the patient's condition (one-tailed positive) or that the drug worsens the patient's condition (one-tailed negative).\n",
    "\n",
    "Two-tailed test:\n",
    "A two-tailed test is a statistical test in which the alternative hypothesis does not specify the direction of the difference between the two groups or samples. In other words, it tests for the possibility of a significant difference in either a positive or a negative direction. The critical region for a two-tailed test is located in both tails of the distribution.\n",
    "\n",
    "For example, suppose you want to test if there is a significant difference in the average height between two groups of students. The null hypothesis is that there is no significant difference in the average height between the two groups. The alternative hypothesis for a two-tailed test would be that there is a significant difference in the average height between the two groups, without specifying the direction of the difference."
   ]
  },
  {
   "cell_type": "markdown",
   "id": "d8e6128e",
   "metadata": {},
   "source": [
    "Q3: Explain the concept of Type 1 and Type 2 errors in hypothesis testing. Provide an example scenario for\n",
    "each type of error."
   ]
  },
  {
   "cell_type": "markdown",
   "id": "1ba93ffb",
   "metadata": {},
   "source": [
    "In hypothesis testing, Type I and Type II errors are two possible errors that can occur when accepting or rejecting a null hypothesis.\n",
    "\n",
    "Type I Error:\n",
    "Type I error occurs when the null hypothesis is rejected when it is actually true. In other words, it is a false positive, and the researcher concludes that there is a significant difference between two groups or samples when there is no actual difference. The probability of making a Type I error is denoted as α (alpha), which is typically set at 0.05.\n",
    "\n",
    "Example scenario of Type I error:\n",
    "Suppose a researcher is testing if a new drug reduces the average cholesterol level in patients. The null hypothesis is that the drug has no effect on the average cholesterol level of patients. If the researcher rejects the null hypothesis based on a sample that appears to show a significant difference, but the actual difference is due to chance, it would be a Type I error.\n",
    "\n",
    "Type II Error:\n",
    "Type II error occurs when the null hypothesis is not rejected when it is actually false. In other words, it is a false negative, and the researcher concludes that there is no significant difference between two groups or samples when there is an actual difference. The probability of making a Type II error is denoted as β (beta).\n",
    "\n",
    "Example scenario of Type II error:\n",
    "Suppose a researcher is testing if a new treatment is more effective than an existing treatment for a particular disease. The null hypothesis is that the new treatment is not more effective than the existing treatment. If the researcher fails to reject the null hypothesis based on a sample that appears to show no significant difference, but there is actually a difference, it would be a Type II error."
   ]
  },
  {
   "cell_type": "markdown",
   "id": "e68f45b7",
   "metadata": {},
   "source": [
    "Q4: Explain Bayes's theorem with an example."
   ]
  },
  {
   "cell_type": "markdown",
   "id": "af3df99a",
   "metadata": {},
   "source": [
    "Bayes's theorem is a statistical rule that provides a way to update the probability of a hypothesis or event based on new evidence or information. It is named after the English statistician Thomas Bayes.\n",
    "\n",
    "Bayes's theorem states that the probability of a hypothesis (H) given the observed data (D) is proportional to the product of the probability of the data given the hypothesis (P(D|H)) and the prior probability of the hypothesis (P(H)). It can be written as:\n",
    "\n",
    "P(H|D) = P(D|H) * P(H) / P(D)\n",
    "\n",
    "where P(H|D) is the posterior probability of the hypothesis given the observed data, P(D|H) is the likelihood of the data given the hypothesis, P(H) is the prior probability of the hypothesis, and P(D) is the probability of the observed data.\n",
    "\n",
    "Example scenario of Bayes's theorem:\n",
    "Suppose a doctor wants to diagnose whether a patient has a certain disease or not. The prevalence of the disease in the general population is known to be 1%. The doctor performs a diagnostic test that has a sensitivity of 90% (correctly identifies people with the disease) and a specificity of 95% (correctly identifies people without the disease).\n",
    "\n",
    "If the patient tests positive for the disease, what is the probability that the patient actually has the disease?\n",
    "\n",
    "Using Bayes's theorem, we can calculate the probability as follows:\n",
    "\n",
    "Let H = patient has the disease, and D = patient tests positive for the disease.\n",
    "\n",
    "P(H) = 0.01 (prevalence of the disease in the general population)\n",
    "P(D|H) = 0.90 (sensitivity of the diagnostic test)\n",
    "P(D|~H) = 0.05 (false positive rate of the diagnostic test)\n",
    "P(~H) = 0.99 (complement of P(H))\n",
    "\n",
    "Using these values, we can calculate the probability of the patient having the disease given that they tested positive for the disease:\n",
    "\n",
    "P(H|D) = P(D|H) * P(H) / [P(D|H) * P(H) + P(D|~H) * P(~H)]\n",
    "= 0.90 * 0.01 / [0.90 * 0.01 + 0.05 * 0.99]\n",
    "= 0.15 or 15%\n",
    "\n",
    "Therefore, there is a 15% chance that the patient actually has the disease given that they tested positive for it. This example illustrates how Bayes's theorem can be used to update the probability of a hypothesis (patient has the disease) based on new evidence (positive test result)."
   ]
  },
  {
   "cell_type": "markdown",
   "id": "fdadafd0",
   "metadata": {},
   "source": [
    "Q5: What is a confidence interval? How to calculate the confidence interval, explain with an example."
   ]
  },
  {
   "cell_type": "markdown",
   "id": "471da1dd",
   "metadata": {},
   "source": [
    "A confidence interval is a range of values that is likely to contain the true population parameter with a certain degree of confidence, based on the sample data. It provides a measure of the precision of the sample estimate of the population parameter.\n",
    "\n",
    "To calculate a confidence interval, we need to know the sample statistic (such as the mean or proportion) and the standard error of the statistic, which reflects the variability of the sample data. The standard error depends on the sample size, the variability of the population, and the type of statistic being used.\n",
    "\n",
    "The confidence level is the probability that the true population parameter falls within the confidence interval. It is typically set at 95%, meaning that if we were to repeat the sampling process many times and calculate 95% confidence intervals for each sample, we would expect 95% of them to contain the true population parameter.\n",
    "\n",
    "Example of calculating a confidence interval:\n",
    "Suppose we want to estimate the average height of all male students in a university using a sample of 50 male students. We find that the sample mean height is 175 cm, and the sample standard deviation is 5 cm.\n",
    "\n",
    "To calculate a 95% confidence interval for the population mean height, we can use the following formula:\n",
    "\n",
    "Confidence interval = sample mean +/- margin of error\n",
    "\n",
    "where the margin of error is calculated as:\n",
    "\n",
    "Margin of error = critical value * standard error\n",
    "\n",
    "The critical value depends on the confidence level and the sample size, and can be looked up in a statistical table or calculated using software.\n",
    "\n",
    "For a 95% confidence level and a sample size of 50, the critical value is approximately 1.96. The standard error of the mean can be calculated as the standard deviation of the sample divided by the square root of the sample size, which in this case is 5 / sqrt(50) = 0.71.\n",
    "\n",
    "Therefore, the confidence interval is:\n",
    "\n",
    "175 +/- 1.96 * 0.71 = [173.62, 176.38]\n",
    "\n",
    "This means that we are 95% confident that the true population mean height of all male students in the university lies between 173.62 cm and 176.38 cm."
   ]
  },
  {
   "cell_type": "markdown",
   "id": "b1a29638",
   "metadata": {},
   "source": [
    "Q6. Use Bayes' Theorem to calculate the probability of an event occurring given prior knowledge of the\n",
    "event's probability and new evidence. Provide a sample problem and solution."
   ]
  },
  {
   "cell_type": "markdown",
   "id": "60e5f2a9",
   "metadata": {},
   "source": [
    "Suppose a factory produces two types of products, type A and type B. The factory produces 60% of type A products and 40% of type B products. Out of all the type A products, 90% pass the quality check, while out of all the type B products, only 70% pass the quality check. If a product is selected at random and passes the quality check, what is the probability that it is a type A product?\n",
    "\n",
    "Let's use Bayes' theorem to solve this problem. Let A be the event that the selected product is a type A product, and Q be the event that the selected product passes the quality check. We are asked to find the probability of event A given event Q, or P(A|Q).\n",
    "\n",
    "According to Bayes' theorem:\n",
    "\n",
    "P(A|Q) = P(Q|A) * P(A) / P(Q)\n",
    "\n",
    "where P(Q|A) is the probability of passing the quality check given that the product is of type A, P(A) is the prior probability of the product being of type A, and P(Q) is the overall probability of passing the quality check, which can be calculated using the law of total probability.\n",
    "\n",
    "To calculate P(Q|A), we can use the given information that 90% of type A products pass the quality check:\n",
    "\n",
    "P(Q|A) = 0.9\n",
    "\n",
    "To calculate P(A), we can use the prior probability that 60% of the products are of type A:\n",
    "\n",
    "P(A) = 0.6\n",
    "\n",
    "To calculate P(Q), we can use the law of total probability, which states that:\n",
    "\n",
    "P(Q) = P(Q|A) * P(A) + P(Q|B) * P(B)\n",
    "\n",
    "where P(Q|B) is the probability of passing the quality check given that the product is of type B, and P(B) is the prior probability of the product being of type B. We are not given the value of P(Q|B), but we can infer it using the information that 70% of type B products pass the quality check:\n",
    "\n",
    "P(Q|B) = 0.7\n",
    "\n",
    "Therefore, we have:\n",
    "\n",
    "P(Q) = 0.9 * 0.6 + 0.7 * 0.4 = 0.82\n",
    "\n",
    "Now we can substitute all these values into Bayes' theorem to get:\n",
    "\n",
    "P(A|Q) = 0.9 * 0.6 / 0.82 ≈ 0.659\n",
    "\n",
    "So the probability that the selected product is a type A product given that it passes the quality check is approximately 0.659, or 65.9%."
   ]
  },
  {
   "cell_type": "markdown",
   "id": "f2ec2e58",
   "metadata": {},
   "source": [
    "Q7. Calculate the 95% confidence interval for a sample of data with a mean of 50 and a standard deviation\n",
    "of 5. Interpret the results."
   ]
  },
  {
   "cell_type": "markdown",
   "id": "84037c5b",
   "metadata": {},
   "source": [
    "To calculate the 95% confidence interval for a sample with a mean of 50 and a standard deviation of 5, we can use the formula:\n",
    "\n",
    "CI = x̄ ± z*(σ/√n)\n",
    "\n",
    "Where:\n",
    "\n",
    "CI = confidence interval\n",
    "x̄ = sample mean (50 in this case)\n",
    "z = z-score associated with the desired confidence level (1.96 for a 95% confidence level)\n",
    "σ = population standard deviation (5 in this case)\n",
    "n = sample size\n",
    "Plugging in the values, we get:\n",
    "\n",
    "CI = 50 ± 1.96*(5/√n)\n",
    "\n",
    "Since we don't have information about the sample size, we can't calculate the exact confidence interval. However, we can show an example for a sample size of 100:\n",
    "\n",
    "CI = 50 ± 1.96*(5/√100)\n",
    "= 50 ± 0.98\n",
    "= (49.02, 50.98)\n",
    "\n",
    "Interpretation:\n",
    "We can say with 95% confidence that the true population mean lies within the interval (49.02, 50.98) based on the sample data. In other words, if we were to repeat the sampling process many times and calculate the confidence interval for each sample, we would expect 95% of the intervals to contain the true population mean."
   ]
  },
  {
   "cell_type": "markdown",
   "id": "59c79844",
   "metadata": {},
   "source": [
    "Q8. What is the margin of error in a confidence interval? How does sample size affect the margin of error?\n",
    "Provide an example of a scenario where a larger sample size would result in a smaller margin of error."
   ]
  },
  {
   "cell_type": "markdown",
   "id": "3b13909a",
   "metadata": {},
   "source": [
    "The margin of error is the amount by which the confidence interval varies from the point estimate (such as the sample mean), due to the uncertainty in the sample data. It represents the level of confidence we have in the accuracy of our estimate of the population parameter.\n",
    "\n",
    "In other words, it is a measure of the precision of the estimate and reflects the degree of uncertainty in the sample data. A smaller margin of error indicates a more precise estimate and a higher level of confidence in the accuracy of the estimate.\n",
    "\n",
    "The margin of error is affected by several factors, including the sample size, the level of confidence, and the variability in the population. As the sample size increases, the margin of error decreases, assuming all other factors are constant. This is because a larger sample size provides more information about the population and reduces the impact of sampling variability on the estimate.\n",
    "\n",
    "For example, let's consider a scenario where we want to estimate the average height of students in a college. If we take a small sample of 10 students, the margin of error might be large, say +/- 5 cm. However, if we increase the sample size to 100 students, the margin of error will decrease, say to +/- 1.5 cm. The larger sample size provides more information about the population and reduces the uncertainty in the estimate.\n",
    "\n",
    "In general, a larger sample size results in a smaller margin of error and a more precise estimate. However, increasing the sample size beyond a certain point may not necessarily result in a significant reduction in the margin of error, and may not be cost-effective or practical."
   ]
  },
  {
   "cell_type": "markdown",
   "id": "bd1aedf7",
   "metadata": {},
   "source": [
    "Q9. Calculate the z-score for a data point with a value of 75, a population mean of 70, and a population\n",
    "standard deviation of 5. Interpret the results."
   ]
  },
  {
   "cell_type": "markdown",
   "id": "86cedff5",
   "metadata": {},
   "source": [
    "To calculate the z-score for a data point with a value of 75, a population mean of 70, and a population standard deviation of 5, we can use the formula:\n",
    "\n",
    "z = (x - μ) / σ\n",
    "\n",
    "Where:\n",
    "\n",
    "x = data point value (75 in this case)\n",
    "μ = population mean (70 in this case)\n",
    "σ = population standard deviation (5 in this case)\n",
    "Plugging in the values, we get:\n",
    "\n",
    "z = (75 - 70) / 5\n",
    "= 1\n",
    "\n",
    "Interpretation:\n",
    "The z-score of 1 indicates that the data point is one standard deviation above the population mean. In other words, the value of 75 is higher than the average value in the population by one standard deviation. The z-score is a measure of how many standard deviations a data point is from the mean, and it is used to standardize data so that we can compare values from different populations or samples.\n",
    "\n",
    "\n",
    "\n"
   ]
  },
  {
   "cell_type": "markdown",
   "id": "faedced6",
   "metadata": {},
   "source": [
    "Q10. In a study of the effectiveness of a new weight loss drug, a sample of 50 participants lost an average\n",
    "of 6 pounds with a standard deviation of 2.5 pounds. Conduct a hypothesis test to determine if the drug is\n",
    "significantly effective at a 95% confidence level using a t-test."
   ]
  },
  {
   "cell_type": "markdown",
   "id": "3ef70263",
   "metadata": {},
   "source": [
    "To conduct a hypothesis test to determine if the weight loss drug is significantly effective at a 95% confidence level using a t-test, we need to set up the null and alternative hypotheses, calculate the test statistic and p-value, and make a decision based on the results.\n",
    "\n",
    "Null hypothesis (H0): The weight loss drug is not significantly effective, and the mean weight loss in the population is not different from the sample mean. µ = µ0, where µ0 is the population mean weight loss.\n",
    "\n",
    "Alternative hypothesis (Ha): The weight loss drug is significantly effective, and the mean weight loss in the population is different from the sample mean. µ ≠ µ0.\n",
    "\n",
    "We will use a two-tailed t-test with α = 0.05 and 49 degrees of freedom (df = n-1) since the sample size is 50.\n",
    "\n",
    "The test statistic is calculated as:\n",
    "\n",
    "t = (x̄ - µ0) / (s / √n)\n",
    "\n",
    "Where:\n",
    "\n",
    "x̄ = sample mean weight loss (6 pounds)\n",
    "µ0 = population mean weight loss (unknown)\n",
    "s = sample standard deviation (2.5 pounds)\n",
    "n = sample size (50)\n",
    "Plugging in the values, we get:\n",
    "\n",
    "t = (6 - µ0) / (2.5 / √50)\n",
    "= 10 * (6 - µ0) / 5\n",
    "\n",
    "To find the p-value, we can use a t-distribution table or a statistical software program. For a two-tailed test with 49 degrees of freedom and α = 0.05, the critical t-value is ±2.009.\n",
    "\n",
    "Since the calculated t-value of (6 - µ0) / (2.5 / √50) is greater than 2.009 in magnitude, the p-value is less than 0.05, and we can reject the null hypothesis in favor of the alternative hypothesis.\n",
    "\n",
    "Therefore, we can conclude that the weight loss drug is significantly effective at a 95% confidence level based on the sample data. In other words, the mean weight loss in the population is likely to be different from the sample mean weight loss of 6 pounds, and the drug is likely to have an effect on weight loss."
   ]
  },
  {
   "cell_type": "markdown",
   "id": "8e357be8",
   "metadata": {},
   "source": [
    "Q11. In a survey of 500 people, 65% reported being satisfied with their current job. Calculate the 95%\n",
    "confidence interval for the true proportion of people who are satisfied with their job."
   ]
  },
  {
   "cell_type": "markdown",
   "id": "c624295f",
   "metadata": {},
   "source": [
    "To calculate the 95% confidence interval for the true proportion of people who are satisfied with their job, we can use the formula:\n",
    "\n",
    "CI = p ± z*(sqrt(p*(1-p)/n))\n",
    "\n",
    "Where:\n",
    "\n",
    "p = sample proportion (0.65 in this case)\n",
    "z = z-score for the desired confidence level (1.96 for a 95% confidence level)\n",
    "n = sample size (500 in this case)\n",
    "Plugging in the values, we get:\n",
    "\n",
    "CI = 0.65 ± 1.96*(sqrt(0.65*(1-0.65)/500))\n",
    "= 0.65 ± 0.045\n",
    "\n",
    "Therefore, the 95% confidence interval for the true proportion of people who are satisfied with their job is (0.605, 0.695).\n",
    "\n",
    "Interpretation:\n",
    "We can be 95% confident that the true proportion of people who are satisfied with their job is between 60.5% and 69.5%, based on the sample data from 500 people. The margin of error is 0.045, which means that if we were to repeat the survey many times, we would expect the true proportion to fall within this range in 95% of the cases."
   ]
  },
  {
   "cell_type": "markdown",
   "id": "f1325be0",
   "metadata": {},
   "source": [
    "Q12. A researcher is testing the effectiveness of two different teaching methods on student performance.\n",
    "Sample A has a mean score of 85 with a standard deviation of 6, while sample B has a mean score of 82\n",
    "with a standard deviation of 5. Conduct a hypothesis test to determine if the two teaching methods have a\n",
    "significant difference in student performance using a t-test with a significance level of 0.01."
   ]
  },
  {
   "cell_type": "markdown",
   "id": "bb04ed1b",
   "metadata": {},
   "source": [
    "To conduct a hypothesis test to determine if the two teaching methods have a significant difference in student performance using a t-test, we need to set up the null and alternative hypotheses, calculate the test statistic and p-value, and make a decision based on the results.\n",
    "\n",
    "Null hypothesis (H0): The two teaching methods have no significant difference in student performance. µA = µB, where µA is the population mean score for sample A and µB is the population mean score for sample B.\n",
    "\n",
    "Alternative hypothesis (Ha): The two teaching methods have a significant difference in student performance. µA ≠ µB.\n",
    "\n",
    "We will use a two-tailed t-test with α = 0.01 and degrees of freedom df = nA + nB - 2, where nA and nB are the sample sizes for samples A and B, respectively.\n",
    "\n",
    "The test statistic is calculated as:\n",
    "\n",
    "t = (x̄A - x̄B) / (sqrt(((nA-1)*sA^2 + (nB-1)sB^2) / (nA+nB-2))) * sqrt((nAnB)/(nA+nB))\n",
    "\n",
    "Where:\n",
    "\n",
    "x̄A = sample mean score for sample A (85)\n",
    "x̄B = sample mean score for sample B (82)\n",
    "sA = sample standard deviation for sample A (6)\n",
    "sB = sample standard deviation for sample B (5)\n",
    "nA = sample size for sample A\n",
    "nB = sample size for sample B\n",
    "Since the sample sizes and standard deviations are provided, we can plug in the values and calculate the test statistic:\n",
    "\n",
    "t = (85 - 82) / (sqrt(((496^2) + (495^2)) / (98))) * sqrt((49*49)/(98))\n",
    "= 3 / 1.474 * 7\n",
    "= 14.98\n",
    "\n",
    "The critical t-value for a two-tailed test with α = 0.01 and df = 96 is ±2.625. Since the calculated t-value of 14.98 is greater than 2.625 in magnitude, the p-value is less than 0.01, and we can reject the null hypothesis in favor of the alternative hypothesis.\n",
    "\n",
    "Therefore, we can conclude that there is a significant difference in student performance between the two teaching methods at a significance level of 0.01 based on the sample data. In other words, the mean score for one teaching method is likely to be different from the mean score for the other teaching method."
   ]
  },
  {
   "cell_type": "markdown",
   "id": "cbfe17da",
   "metadata": {},
   "source": [
    "Q13. A population has a mean of 60 and a standard deviation of 8. A sample of 50 observations has a mean\n",
    "of 65. Calculate the 90% confidence interval for the true population mean."
   ]
  },
  {
   "cell_type": "markdown",
   "id": "6cc0cba1",
   "metadata": {},
   "source": [
    "To calculate the 90% confidence interval for the true population mean, we need to use the formula:\n",
    "\n",
    "CI = x̄ ± z*(σ/√n)\n",
    "\n",
    "where:\n",
    "\n",
    "x̄ = sample mean (65)\n",
    "z = z-score corresponding to the confidence level of 90%, which is 1.645\n",
    "σ = population standard deviation (8)\n",
    "n = sample size (50)\n",
    "Substituting the values, we get:\n",
    "\n",
    "CI = 65 ± 1.645*(8/√50)\n",
    "= 65 ± 1.838\n",
    "= (63.162, 66.838)\n",
    "\n",
    "Therefore, we can say with 90% confidence that the true population mean lies between 63.162 and 66.838 based on the sample data."
   ]
  },
  {
   "cell_type": "markdown",
   "id": "e9ecd4fc",
   "metadata": {},
   "source": [
    "Q14. In a study of the effects of caffeine on reaction time, a sample of 30 participants had an average\n",
    "reaction time of 0.25 seconds with a standard deviation of 0.05 seconds. Conduct a hypothesis test to\n",
    "determine if the caffeine has a significant effect on reaction time at a 90% confidence level using a t-test."
   ]
  },
  {
   "cell_type": "markdown",
   "id": "6b2b47be",
   "metadata": {},
   "source": [
    "To conduct a hypothesis test to determine if caffeine has a significant effect on reaction time using a t-test, we need to set up the null and alternative hypotheses, calculate the test statistic and p-value, and make a decision based on the results.\n",
    "\n",
    "Null hypothesis (H0): Caffeine has no significant effect on reaction time. µ = µ0, where µ is the population mean reaction time with caffeine, and µ0 is the population mean reaction time without caffeine.\n",
    "\n",
    "Alternative hypothesis (Ha): Caffeine has a significant effect on reaction time. µ ≠ µ0.\n",
    "\n",
    "We will use a two-tailed t-test with α = 0.1 and degrees of freedom df = n - 1, where n is the sample size.\n",
    "\n",
    "The test statistic is calculated as:\n",
    "\n",
    "t = (x̄ - µ0) / (s/√n)\n",
    "\n",
    "where:\n",
    "\n",
    "x̄ = sample mean reaction time (0.25 seconds)\n",
    "µ0 = population mean reaction time without caffeine (we will assume this to be 0.3 seconds)\n",
    "s = sample standard deviation (0.05 seconds)\n",
    "n = sample size (30)\n",
    "Substituting the values, we get:\n",
    "\n",
    "t = (0.25 - 0.3) / (0.05/√30)\n",
    "= -1.549\n",
    "\n",
    "The critical t-value for a two-tailed test with α = 0.1 and df = 29 is ±1.699. Since the calculated t-value of -1.549 is greater than -1.699 but less than 1.699, the p-value is greater than 0.1, and we fail to reject the null hypothesis.\n",
    "\n",
    "Therefore, we can conclude that there is not enough evidence to suggest that caffeine has a significant effect on reaction time at a 90% confidence level based on the sample data."
   ]
  }
 ],
 "metadata": {
  "kernelspec": {
   "display_name": "Python 3 (ipykernel)",
   "language": "python",
   "name": "python3"
  },
  "language_info": {
   "codemirror_mode": {
    "name": "ipython",
    "version": 3
   },
   "file_extension": ".py",
   "mimetype": "text/x-python",
   "name": "python",
   "nbconvert_exporter": "python",
   "pygments_lexer": "ipython3",
   "version": "3.9.13"
  }
 },
 "nbformat": 4,
 "nbformat_minor": 5
}
